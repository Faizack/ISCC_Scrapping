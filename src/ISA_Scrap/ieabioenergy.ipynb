{
 "cells": [
  {
   "cell_type": "markdown",
   "metadata": {},
   "source": [
    "## scraping"
   ]
  },
  {
   "cell_type": "code",
   "execution_count": 1,
   "metadata": {},
   "outputs": [],
   "source": [
    "from constanst import get_ISA_raw_HTML"
   ]
  },
  {
   "cell_type": "code",
   "execution_count": 2,
   "metadata": {},
   "outputs": [],
   "source": [
    "html_doc=get_ISA_raw_HTML()"
   ]
  },
  {
   "cell_type": "markdown",
   "metadata": {},
   "source": [
    "## get data"
   ]
  },
  {
   "cell_type": "code",
   "execution_count": 3,
   "metadata": {},
   "outputs": [
    {
     "name": "stdout",
     "output_type": "stream",
     "text": [
      "['https://demoplants21.best-research.eu/projects/info/3641/8JBaZy', 'https://demoplants21.best-research.eu/projects/info/3726/8JBaZy', 'https://demoplants21.best-research.eu/projects/info/3717/8JBaZy', 'https://demoplants21.best-research.eu/projects/info/3886/8JBaZy', 'https://demoplants21.best-research.eu/projects/info/3717/8JBaZy', 'https://demoplants21.best-research.eu/projects/info/3774/8JBaZy', 'https://demoplants21.best-research.eu/projects/info/3844/8JBaZy', 'https://demoplants21.best-research.eu/projects/info/3061/8JBaZy', 'https://demoplants21.best-research.eu/projects/info/3701/8JBaZy', 'https://demoplants21.best-research.eu/projects/info/3970/8JBaZy', 'https://demoplants21.best-research.eu/projects/info/3969/8JBaZy', 'https://demoplants21.best-research.eu/projects/info/3065/8JBaZy', 'https://demoplants21.best-research.eu/projects/info/3904/8JBaZy', 'https://demoplants21.best-research.eu/projects/info/3405/8JBaZy', 'https://demoplants21.best-research.eu/projects/info/3256/8JBaZy', 'https://demoplants21.best-research.eu/projects/info/3353/8JBaZy', 'https://demoplants21.best-research.eu/projects/info/3850/8JBaZy', 'https://demoplants21.best-research.eu/projects/info/3938/8JBaZy', 'https://demoplants21.best-research.eu/projects/info/3937/8JBaZy', 'https://demoplants21.best-research.eu/projects/info/3794/8JBaZy', 'https://demoplants21.best-research.eu/projects/info/3992/8JBaZy', 'https://demoplants21.best-research.eu/projects/info/3809/8JBaZy', 'https://demoplants21.best-research.eu/projects/info/4013/8JBaZy', 'https://demoplants21.best-research.eu/projects/info/3087/8JBaZy', 'https://demoplants21.best-research.eu/projects/info/3767/8JBaZy', 'https://demoplants21.best-research.eu/projects/info/3239/8JBaZy', 'https://demoplants21.best-research.eu/projects/info/3499/8JBaZy', 'https://demoplants21.best-research.eu/projects/info/3945/8JBaZy', 'https://demoplants21.best-research.eu/projects/info/3579/8JBaZy', 'https://demoplants21.best-research.eu/projects/info/3954/8JBaZy', 'https://demoplants21.best-research.eu/projects/info/3241/8JBaZy', 'https://demoplants21.best-research.eu/projects/info/3131/8JBaZy', 'https://demoplants21.best-research.eu/projects/info/3130/8JBaZy', 'https://demoplants21.best-research.eu/projects/info/3159/8JBaZy', 'https://demoplants21.best-research.eu/projects/info/3134/8JBaZy', 'https://demoplants21.best-research.eu/projects/info/3449/8JBaZy', 'https://demoplants21.best-research.eu/projects/info/3445/8JBaZy', 'https://demoplants21.best-research.eu/projects/info/3446/8JBaZy', 'https://demoplants21.best-research.eu/projects/info/3447/8JBaZy', 'https://demoplants21.best-research.eu/projects/info/3448/8JBaZy', 'https://demoplants21.best-research.eu/projects/info/3127/8JBaZy', 'https://demoplants21.best-research.eu/projects/info/3136/8JBaZy', 'https://demoplants21.best-research.eu/projects/info/3857/8JBaZy', 'https://demoplants21.best-research.eu/projects/info/3073/8JBaZy', 'https://demoplants21.best-research.eu/projects/info/3072/8JBaZy', 'https://demoplants21.best-research.eu/projects/info/3074/8JBaZy', 'https://demoplants21.best-research.eu/projects/info/3481/8JBaZy', 'https://demoplants21.best-research.eu/projects/info/3492/8JBaZy', 'https://demoplants21.best-research.eu/projects/info/3452/8JBaZy', 'https://demoplants21.best-research.eu/projects/info/3773/8JBaZy', 'https://demoplants21.best-research.eu/projects/info/4024/8JBaZy', 'https://demoplants21.best-research.eu/projects/info/3352/8JBaZy', 'https://demoplants21.best-research.eu/projects/info/3341/8JBaZy', 'https://demoplants21.best-research.eu/projects/info/3489/8JBaZy', 'https://demoplants21.best-research.eu/projects/info/3947/8JBaZy', 'https://demoplants21.best-research.eu/projects/info/3740/8JBaZy', 'https://demoplants21.best-research.eu/projects/info/3790/8JBaZy', 'https://demoplants21.best-research.eu/projects/info/3905/8JBaZy', 'https://demoplants21.best-research.eu/projects/info/3222/8JBaZy', 'https://demoplants21.best-research.eu/projects/info/4006/8JBaZy', 'https://demoplants21.best-research.eu/projects/info/3081/8JBaZy', 'https://demoplants21.best-research.eu/projects/info/3950/8JBaZy', 'https://demoplants21.best-research.eu/projects/info/3181/8JBaZy', 'https://demoplants21.best-research.eu/projects/info/3035/8JBaZy', 'https://demoplants21.best-research.eu/projects/info/3106/8JBaZy', 'https://demoplants21.best-research.eu/projects/info/3302/8JBaZy', 'https://demoplants21.best-research.eu/projects/info/3100/8JBaZy', 'https://demoplants21.best-research.eu/projects/info/3155/8JBaZy', 'https://demoplants21.best-research.eu/projects/info/3132/8JBaZy', 'https://demoplants21.best-research.eu/projects/info/3839/8JBaZy', 'https://demoplants21.best-research.eu/projects/info/3887/8JBaZy', 'https://demoplants21.best-research.eu/projects/info/3478/8JBaZy', 'https://demoplants21.best-research.eu/projects/info/3550/8JBaZy', 'https://demoplants21.best-research.eu/projects/info/3067/8JBaZy', 'https://demoplants21.best-research.eu/projects/info/3705/8JBaZy', 'https://demoplants21.best-research.eu/projects/info/3248/8JBaZy', 'https://demoplants21.best-research.eu/projects/info/3243/8JBaZy', 'https://demoplants21.best-research.eu/projects/info/3995/8JBaZy', 'https://demoplants21.best-research.eu/projects/info/3985/8JBaZy', 'https://demoplants21.best-research.eu/projects/info/3995/8JBaZy', 'https://demoplants21.best-research.eu/projects/info/3348/8JBaZy', 'https://demoplants21.best-research.eu/projects/info/3509/8JBaZy', 'https://demoplants21.best-research.eu/projects/info/3530/8JBaZy', 'https://demoplants21.best-research.eu/projects/info/3407/8JBaZy', 'https://demoplants21.best-research.eu/projects/info/3893/8JBaZy', 'https://demoplants21.best-research.eu/projects/info/3818/8JBaZy', 'https://demoplants21.best-research.eu/projects/info/3408/8JBaZy', 'https://demoplants21.best-research.eu/projects/info/3741/8JBaZy', 'https://demoplants21.best-research.eu/projects/info/3742/8JBaZy', 'https://demoplants21.best-research.eu/projects/info/3743/8JBaZy', 'https://demoplants21.best-research.eu/projects/info/3744/8JBaZy', 'https://demoplants21.best-research.eu/projects/info/3524/8JBaZy', 'https://demoplants21.best-research.eu/projects/info/4010/8JBaZy', 'https://demoplants21.best-research.eu/projects/info/3285/8JBaZy', 'https://demoplants21.best-research.eu/projects/info/3890/8JBaZy', 'https://demoplants21.best-research.eu/projects/info/3409/8JBaZy', 'https://demoplants21.best-research.eu/projects/info/3410/8JBaZy', 'https://demoplants21.best-research.eu/projects/info/3990/8JBaZy', 'https://demoplants21.best-research.eu/projects/info/3126/8JBaZy', 'https://demoplants21.best-research.eu/projects/info/3308/8JBaZy', 'https://demoplants21.best-research.eu/projects/info/3307/8JBaZy', 'https://demoplants21.best-research.eu/projects/info/3124/8JBaZy', 'https://demoplants21.best-research.eu/projects/info/3250/8JBaZy', 'https://demoplants21.best-research.eu/projects/info/3031/8JBaZy', 'https://demoplants21.best-research.eu/projects/info/3027/8JBaZy', 'https://demoplants21.best-research.eu/projects/info/3137/8JBaZy', 'https://demoplants21.best-research.eu/projects/info/3798/8JBaZy', 'https://demoplants21.best-research.eu/projects/info/3251/8JBaZy', 'https://demoplants21.best-research.eu/projects/info/3798/8JBaZy', 'https://demoplants21.best-research.eu/projects/info/3251/8JBaZy', 'https://demoplants21.best-research.eu/projects/info/3709/8JBaZy', 'https://demoplants21.best-research.eu/projects/info/3359/8JBaZy', 'https://demoplants21.best-research.eu/projects/info/3138/8JBaZy', 'https://demoplants21.best-research.eu/projects/info/3312/8JBaZy', 'https://demoplants21.best-research.eu/projects/info/4009/8JBaZy', 'https://demoplants21.best-research.eu/projects/info/4008/8JBaZy', 'https://demoplants21.best-research.eu/projects/info/3339/8JBaZy', 'https://demoplants21.best-research.eu/projects/info/3677/8JBaZy', 'https://demoplants21.best-research.eu/projects/info/3161/8JBaZy', 'https://demoplants21.best-research.eu/projects/info/3784/8JBaZy', 'https://demoplants21.best-research.eu/projects/info/3996/8JBaZy', 'https://demoplants21.best-research.eu/projects/info/3128/8JBaZy', 'https://demoplants21.best-research.eu/projects/info/3997/8JBaZy', 'https://demoplants21.best-research.eu/projects/info/3455/8JBaZy', 'https://demoplants21.best-research.eu/projects/info/3948/8JBaZy', 'https://demoplants21.best-research.eu/projects/info/3049/8JBaZy', 'https://demoplants21.best-research.eu/projects/info/3974/8JBaZy', 'https://demoplants21.best-research.eu/projects/info/4023/8JBaZy', 'https://demoplants21.best-research.eu/projects/info/3458/8JBaZy', 'https://demoplants21.best-research.eu/projects/info/3459/8JBaZy', 'https://demoplants21.best-research.eu/projects/info/3456/8JBaZy', 'https://demoplants21.best-research.eu/projects/info/3336/8JBaZy', 'https://demoplants21.best-research.eu/projects/info/4015/8JBaZy', 'https://demoplants21.best-research.eu/projects/info/3951/8JBaZy', 'https://demoplants21.best-research.eu/projects/info/3319/8JBaZy', 'https://demoplants21.best-research.eu/projects/info/3470/8JBaZy', 'https://demoplants21.best-research.eu/projects/info/3471/8JBaZy', 'https://demoplants21.best-research.eu/projects/info/3599/8JBaZy', 'https://demoplants21.best-research.eu/projects/info/3771/8JBaZy', 'https://demoplants21.best-research.eu/projects/info/3595/8JBaZy', 'https://demoplants21.best-research.eu/projects/info/3469/8JBaZy', 'https://demoplants21.best-research.eu/projects/info/3769/8JBaZy', 'https://demoplants21.best-research.eu/projects/info/3601/8JBaZy', 'https://demoplants21.best-research.eu/projects/info/3597/8JBaZy', 'https://demoplants21.best-research.eu/projects/info/3598/8JBaZy', 'https://demoplants21.best-research.eu/projects/info/3770/8JBaZy', 'https://demoplants21.best-research.eu/projects/info/3468/8JBaZy', 'https://demoplants21.best-research.eu/projects/info/3529/8JBaZy', 'https://demoplants21.best-research.eu/projects/info/3934/8JBaZy', 'https://demoplants21.best-research.eu/projects/info/3935/8JBaZy', 'https://demoplants21.best-research.eu/projects/info/3133/8JBaZy', 'https://demoplants21.best-research.eu/projects/info/3567/8JBaZy', 'https://demoplants21.best-research.eu/projects/info/3202/8JBaZy', 'https://demoplants21.best-research.eu/projects/info/3907/8JBaZy', 'https://demoplants21.best-research.eu/projects/info/3686/8JBaZy', 'https://demoplants21.best-research.eu/projects/info/3684/8JBaZy', 'https://demoplants21.best-research.eu/projects/info/3685/8JBaZy', 'https://demoplants21.best-research.eu/projects/info/3038/8JBaZy', 'https://demoplants21.best-research.eu/projects/info/4002/8JBaZy', 'https://demoplants21.best-research.eu/projects/info/4014/8JBaZy', 'https://demoplants21.best-research.eu/projects/info/3692/8JBaZy', 'https://demoplants21.best-research.eu/projects/info/3680/8JBaZy', 'https://demoplants21.best-research.eu/projects/info/3683/8JBaZy', 'https://demoplants21.best-research.eu/projects/info/3682/8JBaZy', 'https://demoplants21.best-research.eu/projects/info/3681/8JBaZy', 'https://demoplants21.best-research.eu/projects/info/3537/8JBaZy', 'https://demoplants21.best-research.eu/projects/info/3526/8JBaZy', 'https://demoplants21.best-research.eu/projects/info/3870/8JBaZy', 'https://demoplants21.best-research.eu/projects/info/3693/8JBaZy', 'https://demoplants21.best-research.eu/projects/info/3467/8JBaZy', 'https://demoplants21.best-research.eu/projects/info/3694/8JBaZy', 'https://demoplants21.best-research.eu/projects/info/4033/8JBaZy', 'https://demoplants21.best-research.eu/projects/info/3785/8JBaZy', 'https://demoplants21.best-research.eu/projects/info/3918/8JBaZy', 'https://demoplants21.best-research.eu/projects/info/3064/8JBaZy', 'https://demoplants21.best-research.eu/projects/info/3482/8JBaZy', 'https://demoplants21.best-research.eu/projects/info/3584/8JBaZy', 'https://demoplants21.best-research.eu/projects/info/3583/8JBaZy', 'https://demoplants21.best-research.eu/projects/info/3586/8JBaZy', 'https://demoplants21.best-research.eu/projects/info/3582/8JBaZy', 'https://demoplants21.best-research.eu/projects/info/3581/8JBaZy', 'https://demoplants21.best-research.eu/projects/info/3585/8JBaZy', 'https://demoplants21.best-research.eu/projects/info/3158/8JBaZy', 'https://demoplants21.best-research.eu/projects/info/3076/8JBaZy', 'https://demoplants21.best-research.eu/projects/info/3600/8JBaZy', 'https://demoplants21.best-research.eu/projects/info/3358/8JBaZy', 'https://demoplants21.best-research.eu/projects/info/3972/8JBaZy', 'https://demoplants21.best-research.eu/projects/info/3190/8JBaZy', 'https://demoplants21.best-research.eu/projects/info/3289/8JBaZy', 'https://demoplants21.best-research.eu/projects/info/3039/8JBaZy', 'https://demoplants21.best-research.eu/projects/info/3289/8JBaZy', 'https://demoplants21.best-research.eu/projects/info/3039/8JBaZy', 'https://demoplants21.best-research.eu/projects/info/3182/8JBaZy', 'https://demoplants21.best-research.eu/projects/info/3865/8JBaZy', 'https://demoplants21.best-research.eu/projects/info/3304/8JBaZy', 'https://demoplants21.best-research.eu/projects/info/3925/8JBaZy', 'https://demoplants21.best-research.eu/projects/info/3868/8JBaZy', 'https://demoplants21.best-research.eu/projects/info/3994/8JBaZy', 'https://demoplants21.best-research.eu/projects/info/3925/8JBaZy', 'https://demoplants21.best-research.eu/projects/info/3994/8JBaZy', 'https://demoplants21.best-research.eu/projects/info/4028/8JBaZy', 'https://demoplants21.best-research.eu/projects/info/3313/8JBaZy', 'https://demoplants21.best-research.eu/projects/info/3993/8JBaZy', 'https://demoplants21.best-research.eu/projects/info/3412/8JBaZy', 'https://demoplants21.best-research.eu/projects/info/3710/8JBaZy', 'https://demoplants21.best-research.eu/projects/info/3413/8JBaZy', 'https://demoplants21.best-research.eu/projects/info/3815/8JBaZy', 'https://demoplants21.best-research.eu/projects/info/3896/8JBaZy', 'https://demoplants21.best-research.eu/projects/info/3891/8JBaZy', 'https://demoplants21.best-research.eu/projects/info/3728/8JBaZy', 'https://demoplants21.best-research.eu/projects/info/3533/8JBaZy', 'https://demoplants21.best-research.eu/projects/info/3539/8JBaZy', 'https://demoplants21.best-research.eu/projects/info/3527/8JBaZy', 'https://demoplants21.best-research.eu/projects/info/3522/8JBaZy', 'https://demoplants21.best-research.eu/projects/info/3116/8JBaZy', 'https://demoplants21.best-research.eu/projects/info/3519/8JBaZy', 'https://demoplants21.best-research.eu/projects/info/3691/8JBaZy', 'https://demoplants21.best-research.eu/projects/info/3690/8JBaZy', 'https://demoplants21.best-research.eu/projects/info/3703/8JBaZy', 'https://demoplants21.best-research.eu/projects/info/3521/8JBaZy', 'https://demoplants21.best-research.eu/projects/info/3520/8JBaZy', 'https://demoplants21.best-research.eu/projects/info/3650/8JBaZy', 'https://demoplants21.best-research.eu/projects/info/3745/8JBaZy', 'https://demoplants21.best-research.eu/projects/info/3952/8JBaZy', 'https://demoplants21.best-research.eu/projects/info/3476/8JBaZy', 'https://demoplants21.best-research.eu/projects/info/3956/8JBaZy', 'https://demoplants21.best-research.eu/projects/info/3487/8JBaZy', 'https://demoplants21.best-research.eu/projects/info/3998/8JBaZy', 'https://demoplants21.best-research.eu/projects/info/3101/8JBaZy', 'https://demoplants21.best-research.eu/projects/info/3981/8JBaZy', 'https://demoplants21.best-research.eu/projects/info/3921/8JBaZy', 'https://demoplants21.best-research.eu/projects/info/3713/8JBaZy', 'https://demoplants21.best-research.eu/projects/info/3516/8JBaZy', 'https://demoplants21.best-research.eu/projects/info/3639/8JBaZy', 'https://demoplants21.best-research.eu/projects/info/3602/8JBaZy', 'https://demoplants21.best-research.eu/projects/info/3675/8JBaZy', 'https://demoplants21.best-research.eu/projects/info/3630/8JBaZy', 'https://demoplants21.best-research.eu/projects/info/3615/8JBaZy', 'https://demoplants21.best-research.eu/projects/info/3610/8JBaZy', 'https://demoplants21.best-research.eu/projects/info/3651/8JBaZy', 'https://demoplants21.best-research.eu/projects/info/3617/8JBaZy', 'https://demoplants21.best-research.eu/projects/info/3648/8JBaZy', 'https://demoplants21.best-research.eu/projects/info/3959/8JBaZy', 'https://demoplants21.best-research.eu/projects/info/3417/8JBaZy', 'https://demoplants21.best-research.eu/projects/info/3416/8JBaZy', 'https://demoplants21.best-research.eu/projects/info/3417/8JBaZy', 'https://demoplants21.best-research.eu/projects/info/3102/8JBaZy', 'https://demoplants21.best-research.eu/projects/info/3245/8JBaZy', 'https://demoplants21.best-research.eu/projects/info/4026/8JBaZy', 'https://demoplants21.best-research.eu/projects/info/3915/8JBaZy', 'https://demoplants21.best-research.eu/projects/info/3092/8JBaZy', 'https://demoplants21.best-research.eu/projects/info/3910/8JBaZy', 'https://demoplants21.best-research.eu/projects/info/3351/8JBaZy', 'https://demoplants21.best-research.eu/projects/info/3543/8JBaZy', 'https://demoplants21.best-research.eu/projects/info/3826/8JBaZy', 'https://demoplants21.best-research.eu/projects/info/3825/8JBaZy', 'https://demoplants21.best-research.eu/projects/info/3912/8JBaZy', 'https://demoplants21.best-research.eu/projects/info/3283/8JBaZy', 'https://demoplants21.best-research.eu/projects/info/3924/8JBaZy', 'https://demoplants21.best-research.eu/projects/info/3980/8JBaZy', 'https://demoplants21.best-research.eu/projects/info/3811/8JBaZy', 'https://demoplants21.best-research.eu/projects/info/3856/8JBaZy', 'https://demoplants21.best-research.eu/projects/info/3751/8JBaZy', 'https://demoplants21.best-research.eu/projects/info/3746/8JBaZy', 'https://demoplants21.best-research.eu/projects/info/3756/8JBaZy', 'https://demoplants21.best-research.eu/projects/info/3269/8JBaZy', 'https://demoplants21.best-research.eu/projects/info/3715/8JBaZy', 'https://demoplants21.best-research.eu/projects/info/3968/8JBaZy', 'https://demoplants21.best-research.eu/projects/info/3343/8JBaZy', 'https://demoplants21.best-research.eu/projects/info/3965/8JBaZy', 'https://demoplants21.best-research.eu/projects/info/3848/8JBaZy', 'https://demoplants21.best-research.eu/projects/info/3300/8JBaZy', 'https://demoplants21.best-research.eu/projects/info/3885/8JBaZy', 'https://demoplants21.best-research.eu/projects/info/3791/8JBaZy', 'https://demoplants21.best-research.eu/projects/info/3403/8JBaZy', 'https://demoplants21.best-research.eu/projects/info/3041/8JBaZy', 'https://demoplants21.best-research.eu/projects/info/3129/8JBaZy', 'https://demoplants21.best-research.eu/projects/info/3059/8JBaZy', 'https://demoplants21.best-research.eu/projects/info/3069/8JBaZy', 'https://demoplants21.best-research.eu/projects/info/4007/8JBaZy', 'https://demoplants21.best-research.eu/projects/info/3070/8JBaZy', 'https://demoplants21.best-research.eu/projects/info/3497/8JBaZy', 'https://demoplants21.best-research.eu/projects/info/3354/8JBaZy', 'https://demoplants21.best-research.eu/projects/info/3707/8JBaZy', 'https://demoplants21.best-research.eu/projects/info/3765/8JBaZy', 'https://demoplants21.best-research.eu/projects/info/3699/8JBaZy', 'https://demoplants21.best-research.eu/projects/info/3700/8JBaZy', 'https://demoplants21.best-research.eu/projects/info/3946/8JBaZy', 'https://demoplants21.best-research.eu/projects/info/3479/8JBaZy', 'https://demoplants21.best-research.eu/projects/info/3768/8JBaZy', 'https://demoplants21.best-research.eu/projects/info/3062/8JBaZy', 'https://demoplants21.best-research.eu/projects/info/3084/8JBaZy', 'https://demoplants21.best-research.eu/projects/info/3987/8JBaZy', 'https://demoplants21.best-research.eu/projects/info/3083/8JBaZy', 'https://demoplants21.best-research.eu/projects/info/3853/8JBaZy', 'https://demoplants21.best-research.eu/projects/info/3066/8JBaZy', 'https://demoplants21.best-research.eu/projects/info/3879/8JBaZy', 'https://demoplants21.best-research.eu/projects/info/3139/8JBaZy', 'https://demoplants21.best-research.eu/projects/info/3559/8JBaZy', 'https://demoplants21.best-research.eu/projects/info/3830/8JBaZy', 'https://demoplants21.best-research.eu/projects/info/3566/8JBaZy', 'https://demoplants21.best-research.eu/projects/info/3175/8JBaZy', 'https://demoplants21.best-research.eu/projects/info/3984/8JBaZy', 'https://demoplants21.best-research.eu/projects/info/4005/8JBaZy', 'https://demoplants21.best-research.eu/projects/info/4004/8JBaZy', 'https://demoplants21.best-research.eu/projects/info/3943/8JBaZy', 'https://demoplants21.best-research.eu/projects/info/3929/8JBaZy', 'https://demoplants21.best-research.eu/projects/info/3803/8JBaZy', 'https://demoplants21.best-research.eu/projects/info/3930/8JBaZy', 'https://demoplants21.best-research.eu/projects/info/3931/8JBaZy', 'https://demoplants21.best-research.eu/projects/info/3326/8JBaZy', 'https://demoplants21.best-research.eu/projects/info/4020/8JBaZy', 'https://demoplants21.best-research.eu/projects/info/3534/8JBaZy', 'https://demoplants21.best-research.eu/projects/info/3192/8JBaZy', 'https://demoplants21.best-research.eu/projects/info/3208/8JBaZy', 'https://demoplants21.best-research.eu/projects/info/3418/8JBaZy', 'https://demoplants21.best-research.eu/projects/info/3498/8JBaZy', 'https://demoplants21.best-research.eu/projects/info/3172/8JBaZy', 'https://demoplants21.best-research.eu/projects/info/3982/8JBaZy', 'https://demoplants21.best-research.eu/projects/info/3665/8JBaZy', 'https://demoplants21.best-research.eu/projects/info/3669/8JBaZy', 'https://demoplants21.best-research.eu/projects/info/3356/8JBaZy', 'https://demoplants21.best-research.eu/projects/info/3847/8JBaZy', 'https://demoplants21.best-research.eu/projects/info/3702/8JBaZy', 'https://demoplants21.best-research.eu/projects/info/3855/8JBaZy', 'https://demoplants21.best-research.eu/projects/info/3908/8JBaZy', 'https://demoplants21.best-research.eu/projects/info/3619/8JBaZy', 'https://demoplants21.best-research.eu/projects/info/3620/8JBaZy', 'https://demoplants21.best-research.eu/projects/info/3622/8JBaZy', 'https://demoplants21.best-research.eu/projects/info/3555/8JBaZy', 'https://demoplants21.best-research.eu/projects/info/3860/8JBaZy', 'https://demoplants21.best-research.eu/projects/info/3637/8JBaZy', 'https://demoplants21.best-research.eu/projects/info/3441/8JBaZy', 'https://demoplants21.best-research.eu/projects/info/3240/8JBaZy', 'https://demoplants21.best-research.eu/projects/info/3442/8JBaZy', 'https://demoplants21.best-research.eu/projects/info/3240/8JBaZy', 'https://demoplants21.best-research.eu/projects/info/3932/8JBaZy', 'https://demoplants21.best-research.eu/projects/info/3442/8JBaZy', 'https://demoplants21.best-research.eu/projects/info/3932/8JBaZy', 'https://demoplants21.best-research.eu/projects/info/3174/8JBaZy', 'https://demoplants21.best-research.eu/projects/info/3646/8JBaZy', 'https://demoplants21.best-research.eu/projects/info/3626/8JBaZy', 'https://demoplants21.best-research.eu/projects/info/3411/8JBaZy', 'https://demoplants21.best-research.eu/projects/info/3967/8JBaZy', 'https://demoplants21.best-research.eu/projects/info/3337/8JBaZy', 'https://demoplants21.best-research.eu/projects/info/3421/8JBaZy', 'https://demoplants21.best-research.eu/projects/info/3173/8JBaZy', 'https://demoplants21.best-research.eu/projects/info/3687/8JBaZy', 'https://demoplants21.best-research.eu/projects/info/3688/8JBaZy', 'https://demoplants21.best-research.eu/projects/info/3689/8JBaZy', 'https://demoplants21.best-research.eu/projects/info/3177/8JBaZy', 'https://demoplants21.best-research.eu/projects/info/3629/8JBaZy', 'https://demoplants21.best-research.eu/projects/info/3757/8JBaZy', 'https://demoplants21.best-research.eu/projects/info/3628/8JBaZy', 'https://demoplants21.best-research.eu/projects/info/3605/8JBaZy', 'https://demoplants21.best-research.eu/projects/info/3125/8JBaZy', 'https://demoplants21.best-research.eu/projects/info/3748/8JBaZy', 'https://demoplants21.best-research.eu/projects/info/3606/8JBaZy', 'https://demoplants21.best-research.eu/projects/info/3603/8JBaZy', 'https://demoplants21.best-research.eu/projects/info/3752/8JBaZy', 'https://demoplants21.best-research.eu/projects/info/3761/8JBaZy', 'https://demoplants21.best-research.eu/projects/info/3643/8JBaZy', 'https://demoplants21.best-research.eu/projects/info/3653/8JBaZy', 'https://demoplants21.best-research.eu/projects/info/3632/8JBaZy', 'https://demoplants21.best-research.eu/projects/info/3644/8JBaZy', 'https://demoplants21.best-research.eu/projects/info/3167/8JBaZy', 'https://demoplants21.best-research.eu/projects/info/3166/8JBaZy', 'https://demoplants21.best-research.eu/projects/info/3167/8JBaZy', 'https://demoplants21.best-research.eu/projects/info/3557/8JBaZy', 'https://demoplants21.best-research.eu/projects/info/3443/8JBaZy', 'https://demoplants21.best-research.eu/projects/info/3920/8JBaZy', 'https://demoplants21.best-research.eu/projects/info/3277/8JBaZy', 'https://demoplants21.best-research.eu/projects/info/3263/8JBaZy', 'https://demoplants21.best-research.eu/projects/info/3976/8JBaZy', 'https://demoplants21.best-research.eu/projects/info/3464/8JBaZy', 'https://demoplants21.best-research.eu/projects/info/3971/8JBaZy', 'https://demoplants21.best-research.eu/projects/info/3264/8JBaZy', 'https://demoplants21.best-research.eu/projects/info/3928/8JBaZy', 'https://demoplants21.best-research.eu/projects/info/3897/8JBaZy', 'https://demoplants21.best-research.eu/projects/info/3760/8JBaZy', 'https://demoplants21.best-research.eu/projects/info/3290/8JBaZy', 'https://demoplants21.best-research.eu/projects/info/3991/8JBaZy', 'https://demoplants21.best-research.eu/projects/info/3278/8JBaZy', 'https://demoplants21.best-research.eu/projects/info/3048/8JBaZy', 'https://demoplants21.best-research.eu/projects/info/3457/8JBaZy', 'https://demoplants21.best-research.eu/projects/info/3558/8JBaZy', 'https://demoplants21.best-research.eu/projects/info/3422/8JBaZy', 'https://demoplants21.best-research.eu/projects/info/3649/8JBaZy', 'https://demoplants21.best-research.eu/projects/info/3988/8JBaZy', 'https://demoplants21.best-research.eu/projects/info/3989/8JBaZy', 'https://demoplants21.best-research.eu/projects/info/3291/8JBaZy', 'https://demoplants21.best-research.eu/projects/info/3902/8JBaZy', 'https://demoplants21.best-research.eu/projects/info/3176/8JBaZy', 'https://demoplants21.best-research.eu/projects/info/3796/8JBaZy', 'https://demoplants21.best-research.eu/projects/info/3164/8JBaZy', 'https://demoplants21.best-research.eu/projects/info/3121/8JBaZy', 'https://demoplants21.best-research.eu/projects/info/3423/8JBaZy', 'https://demoplants21.best-research.eu/projects/info/3463/8JBaZy', 'https://demoplants21.best-research.eu/projects/info/3664/8JBaZy', 'https://demoplants21.best-research.eu/projects/info/3758/8JBaZy', 'https://demoplants21.best-research.eu/projects/info/3642/8JBaZy', 'https://demoplants21.best-research.eu/projects/info/3552/8JBaZy', 'https://demoplants21.best-research.eu/projects/info/3503/8JBaZy', 'https://demoplants21.best-research.eu/projects/info/3505/8JBaZy', 'https://demoplants21.best-research.eu/projects/info/3506/8JBaZy', 'https://demoplants21.best-research.eu/projects/info/3451/8JBaZy', 'https://demoplants21.best-research.eu/projects/info/3450/8JBaZy', 'https://demoplants21.best-research.eu/projects/info/3621/8JBaZy', 'https://demoplants21.best-research.eu/projects/info/3512/8JBaZy', 'https://demoplants21.best-research.eu/projects/info/3515/8JBaZy', 'https://demoplants21.best-research.eu/projects/info/3488/8JBaZy', 'https://demoplants21.best-research.eu/projects/info/3501/8JBaZy', 'https://demoplants21.best-research.eu/projects/info/3473/8JBaZy', 'https://demoplants21.best-research.eu/projects/info/3655/8JBaZy', 'https://demoplants21.best-research.eu/projects/info/3477/8JBaZy', 'https://demoplants21.best-research.eu/projects/info/3472/8JBaZy', 'https://demoplants21.best-research.eu/projects/info/3574/8JBaZy', 'https://demoplants21.best-research.eu/projects/info/3502/8JBaZy', 'https://demoplants21.best-research.eu/projects/info/3491/8JBaZy', 'https://demoplants21.best-research.eu/projects/info/3424/8JBaZy', 'https://demoplants21.best-research.eu/projects/info/3759/8JBaZy', 'https://demoplants21.best-research.eu/projects/info/3494/8JBaZy', 'https://demoplants21.best-research.eu/projects/info/3724/8JBaZy', 'https://demoplants21.best-research.eu/projects/info/3845/8JBaZy', 'https://demoplants21.best-research.eu/projects/info/3185/8JBaZy', 'https://demoplants21.best-research.eu/projects/info/3978/8JBaZy', 'https://demoplants21.best-research.eu/projects/info/3183/8JBaZy', 'https://demoplants21.best-research.eu/projects/info/3184/8JBaZy', 'https://demoplants21.best-research.eu/projects/info/3195/8JBaZy', 'https://demoplants21.best-research.eu/projects/info/3184/8JBaZy', 'https://demoplants21.best-research.eu/projects/info/3914/8JBaZy', 'https://demoplants21.best-research.eu/projects/info/3183/8JBaZy', 'https://demoplants21.best-research.eu/projects/info/3195/8JBaZy', 'https://demoplants21.best-research.eu/projects/info/3914/8JBaZy', 'https://demoplants21.best-research.eu/projects/info/4016/8JBaZy', 'https://demoplants21.best-research.eu/projects/info/3546/8JBaZy', 'https://demoplants21.best-research.eu/projects/info/3547/8JBaZy', 'https://demoplants21.best-research.eu/projects/info/3569/8JBaZy', 'https://demoplants21.best-research.eu/projects/info/3544/8JBaZy', 'https://demoplants21.best-research.eu/projects/info/3973/8JBaZy', 'https://demoplants21.best-research.eu/projects/info/3510/8JBaZy', 'https://demoplants21.best-research.eu/projects/info/3542/8JBaZy', 'https://demoplants21.best-research.eu/projects/info/3556/8JBaZy', 'https://demoplants21.best-research.eu/projects/info/3576/8JBaZy', 'https://demoplants21.best-research.eu/projects/info/3549/8JBaZy', 'https://demoplants21.best-research.eu/projects/info/3541/8JBaZy', 'https://demoplants21.best-research.eu/projects/info/3271/8JBaZy', 'https://demoplants21.best-research.eu/projects/info/3511/8JBaZy', 'https://demoplants21.best-research.eu/projects/info/3518/8JBaZy', 'https://demoplants21.best-research.eu/projects/info/3082/8JBaZy', 'https://demoplants21.best-research.eu/projects/info/3170/8JBaZy', 'https://demoplants21.best-research.eu/projects/info/3105/8JBaZy', 'https://demoplants21.best-research.eu/projects/info/3909/8JBaZy', 'https://demoplants21.best-research.eu/projects/info/4027/8JBaZy', 'https://demoplants21.best-research.eu/projects/info/3589/8JBaZy', 'https://demoplants21.best-research.eu/projects/info/3592/8JBaZy', 'https://demoplants21.best-research.eu/projects/info/3593/8JBaZy', 'https://demoplants21.best-research.eu/projects/info/3594/8JBaZy', 'https://demoplants21.best-research.eu/projects/info/3590/8JBaZy', 'https://demoplants21.best-research.eu/projects/info/3588/8JBaZy', 'https://demoplants21.best-research.eu/projects/info/3591/8JBaZy', 'https://demoplants21.best-research.eu/projects/info/3862/8JBaZy', 'https://demoplants21.best-research.eu/projects/info/3513/8JBaZy', 'https://demoplants21.best-research.eu/projects/info/3561/8JBaZy', 'https://demoplants21.best-research.eu/projects/info/3652/8JBaZy', 'https://demoplants21.best-research.eu/projects/info/3657/8JBaZy', 'https://demoplants21.best-research.eu/projects/info/3624/8JBaZy', 'https://demoplants21.best-research.eu/projects/info/3609/8JBaZy', 'https://demoplants21.best-research.eu/projects/info/3673/8JBaZy', 'https://demoplants21.best-research.eu/projects/info/4003/8JBaZy', 'https://demoplants21.best-research.eu/projects/info/3575/8JBaZy', 'https://demoplants21.best-research.eu/projects/info/3919/8JBaZy', 'https://demoplants21.best-research.eu/projects/info/3570/8JBaZy', 'https://demoplants21.best-research.eu/projects/info/4029/8JBaZy', 'https://demoplants21.best-research.eu/projects/info/3220/8JBaZy', 'https://demoplants21.best-research.eu/projects/info/3196/8JBaZy', 'https://demoplants21.best-research.eu/projects/info/3135/8JBaZy', 'https://demoplants21.best-research.eu/projects/info/3330/8JBaZy', 'https://demoplants21.best-research.eu/projects/info/3659/8JBaZy', 'https://demoplants21.best-research.eu/projects/info/3611/8JBaZy', 'https://demoplants21.best-research.eu/projects/info/3660/8JBaZy', 'https://demoplants21.best-research.eu/projects/info/3658/8JBaZy', 'https://demoplants21.best-research.eu/projects/info/3604/8JBaZy', 'https://demoplants21.best-research.eu/projects/info/3944/8JBaZy', 'https://demoplants21.best-research.eu/projects/info/3318/8JBaZy', 'https://demoplants21.best-research.eu/projects/info/3977/8JBaZy', 'https://demoplants21.best-research.eu/projects/info/3838/8JBaZy', 'https://demoplants21.best-research.eu/projects/info/3480/8JBaZy', 'https://demoplants21.best-research.eu/projects/info/3753/8JBaZy', 'https://demoplants21.best-research.eu/projects/info/3453/8JBaZy', 'https://demoplants21.best-research.eu/projects/info/3895/8JBaZy', 'https://demoplants21.best-research.eu/projects/info/3827/8JBaZy', 'https://demoplants21.best-research.eu/projects/info/3114/8JBaZy', 'https://demoplants21.best-research.eu/projects/info/3737/8JBaZy', 'https://demoplants21.best-research.eu/projects/info/3736/8JBaZy', 'https://demoplants21.best-research.eu/projects/info/3213/8JBaZy', 'https://demoplants21.best-research.eu/projects/info/3286/8JBaZy', 'https://demoplants21.best-research.eu/projects/info/3156/8JBaZy', 'https://demoplants21.best-research.eu/projects/info/3662/8JBaZy', 'https://demoplants21.best-research.eu/projects/info/3428/8JBaZy', 'https://demoplants21.best-research.eu/projects/info/3429/8JBaZy', 'https://demoplants21.best-research.eu/projects/info/3426/8JBaZy', 'https://demoplants21.best-research.eu/projects/info/3731/8JBaZy', 'https://demoplants21.best-research.eu/projects/info/3735/8JBaZy', 'https://demoplants21.best-research.eu/projects/info/3926/8JBaZy', 'https://demoplants21.best-research.eu/projects/info/3238/8JBaZy', 'https://demoplants21.best-research.eu/projects/info/3553/8JBaZy', 'https://demoplants21.best-research.eu/projects/info/3554/8JBaZy', 'https://demoplants21.best-research.eu/projects/info/3568/8JBaZy', 'https://demoplants21.best-research.eu/projects/info/3430/8JBaZy', 'https://demoplants21.best-research.eu/projects/info/3849/8JBaZy', 'https://demoplants21.best-research.eu/projects/info/3843/8JBaZy', 'https://demoplants21.best-research.eu/projects/info/3829/8JBaZy', 'https://demoplants21.best-research.eu/projects/info/3244/8JBaZy', 'https://demoplants21.best-research.eu/projects/info/3966/8JBaZy', 'https://demoplants21.best-research.eu/projects/info/3474/8JBaZy', 'https://demoplants21.best-research.eu/projects/info/3484/8JBaZy', 'https://demoplants21.best-research.eu/projects/info/3786/8JBaZy', 'https://demoplants21.best-research.eu/projects/info/3859/8JBaZy', 'https://demoplants21.best-research.eu/projects/info/3786/8JBaZy', 'https://demoplants21.best-research.eu/projects/info/3859/8JBaZy', 'https://demoplants21.best-research.eu/projects/info/3888/8JBaZy', 'https://demoplants21.best-research.eu/projects/info/3795/8JBaZy', 'https://demoplants21.best-research.eu/projects/info/3858/8JBaZy', 'https://demoplants21.best-research.eu/projects/info/3722/8JBaZy', 'https://demoplants21.best-research.eu/projects/info/3723/8JBaZy', 'https://demoplants21.best-research.eu/projects/info/3722/8JBaZy', 'https://demoplants21.best-research.eu/projects/info/3723/8JBaZy', 'https://demoplants21.best-research.eu/projects/info/3666/8JBaZy', 'https://demoplants21.best-research.eu/projects/info/3431/8JBaZy', 'https://demoplants21.best-research.eu/projects/info/3573/8JBaZy', 'https://demoplants21.best-research.eu/projects/info/3496/8JBaZy', 'https://demoplants21.best-research.eu/projects/info/3060/8JBaZy', 'https://demoplants21.best-research.eu/projects/info/3535/8JBaZy', 'https://demoplants21.best-research.eu/projects/info/3587/8JBaZy', 'https://demoplants21.best-research.eu/projects/info/3538/8JBaZy', 'https://demoplants21.best-research.eu/projects/info/3851/8JBaZy', 'https://demoplants21.best-research.eu/projects/info/3852/8JBaZy', 'https://demoplants21.best-research.eu/projects/info/3851/8JBaZy', 'https://demoplants21.best-research.eu/projects/info/4011/8JBaZy', 'https://demoplants21.best-research.eu/projects/info/3495/8JBaZy', 'https://demoplants21.best-research.eu/projects/info/3814/8JBaZy', 'https://demoplants21.best-research.eu/projects/info/3882/8JBaZy', 'https://demoplants21.best-research.eu/projects/info/3500/8JBaZy', 'https://demoplants21.best-research.eu/projects/info/3563/8JBaZy', 'https://demoplants21.best-research.eu/projects/info/3415/8JBaZy', 'https://demoplants21.best-research.eu/projects/info/3631/8JBaZy', 'https://demoplants21.best-research.eu/projects/info/3656/8JBaZy', 'https://demoplants21.best-research.eu/projects/info/3942/8JBaZy', 'https://demoplants21.best-research.eu/projects/info/3532/8JBaZy', 'https://demoplants21.best-research.eu/projects/info/3531/8JBaZy', 'https://demoplants21.best-research.eu/projects/info/3525/8JBaZy', 'https://demoplants21.best-research.eu/projects/info/3528/8JBaZy', 'https://demoplants21.best-research.eu/projects/info/3536/8JBaZy', 'https://demoplants21.best-research.eu/projects/info/4025/8JBaZy', 'https://demoplants21.best-research.eu/projects/info/3228/8JBaZy', 'https://demoplants21.best-research.eu/projects/info/3836/8JBaZy', 'https://demoplants21.best-research.eu/projects/info/3747/8JBaZy', 'https://demoplants21.best-research.eu/projects/info/3357/8JBaZy', 'https://demoplants21.best-research.eu/projects/info/3899/8JBaZy', 'https://demoplants21.best-research.eu/projects/info/3986/8JBaZy', 'https://demoplants21.best-research.eu/projects/info/3824/8JBaZy', 'https://demoplants21.best-research.eu/projects/info/3900/8JBaZy', 'https://demoplants21.best-research.eu/projects/info/3903/8JBaZy', 'https://demoplants21.best-research.eu/projects/info/3800/8JBaZy', 'https://demoplants21.best-research.eu/projects/info/3788/8JBaZy', 'https://demoplants21.best-research.eu/projects/info/3514/8JBaZy', 'https://demoplants21.best-research.eu/projects/info/3075/8JBaZy', 'https://demoplants21.best-research.eu/projects/info/3846/8JBaZy', 'https://demoplants21.best-research.eu/projects/info/3869/8JBaZy', 'https://demoplants21.best-research.eu/projects/info/3322/8JBaZy', 'https://demoplants21.best-research.eu/projects/info/3462/8JBaZy', 'https://demoplants21.best-research.eu/projects/info/3548/8JBaZy', 'https://demoplants21.best-research.eu/projects/info/3551/8JBaZy', 'https://demoplants21.best-research.eu/projects/info/3562/8JBaZy', 'https://demoplants21.best-research.eu/projects/info/3545/8JBaZy', 'https://demoplants21.best-research.eu/projects/info/3571/8JBaZy', 'https://demoplants21.best-research.eu/projects/info/3750/8JBaZy', 'https://demoplants21.best-research.eu/projects/info/3754/8JBaZy', 'https://demoplants21.best-research.eu/projects/info/3881/8JBaZy', 'https://demoplants21.best-research.eu/projects/info/3864/8JBaZy', 'https://demoplants21.best-research.eu/projects/info/3877/8JBaZy', 'https://demoplants21.best-research.eu/projects/info/3876/8JBaZy', 'https://demoplants21.best-research.eu/projects/info/3301/8JBaZy', 'https://demoplants21.best-research.eu/projects/info/3872/8JBaZy', 'https://demoplants21.best-research.eu/projects/info/3873/8JBaZy', 'https://demoplants21.best-research.eu/projects/info/3871/8JBaZy', 'https://demoplants21.best-research.eu/projects/info/3875/8JBaZy', 'https://demoplants21.best-research.eu/projects/info/3878/8JBaZy', 'https://demoplants21.best-research.eu/projects/info/3876/8JBaZy', 'https://demoplants21.best-research.eu/projects/info/3301/8JBaZy', 'https://demoplants21.best-research.eu/projects/info/3864/8JBaZy', 'https://demoplants21.best-research.eu/projects/info/3877/8JBaZy', 'https://demoplants21.best-research.eu/projects/info/3878/8JBaZy', 'https://demoplants21.best-research.eu/projects/info/3842/8JBaZy', 'https://demoplants21.best-research.eu/projects/info/3485/8JBaZy', 'https://demoplants21.best-research.eu/projects/info/3071/8JBaZy', 'https://demoplants21.best-research.eu/projects/info/3103/8JBaZy', 'https://demoplants21.best-research.eu/projects/info/3490/8JBaZy', 'https://demoplants21.best-research.eu/projects/info/3697/8JBaZy', 'https://demoplants21.best-research.eu/projects/info/3698/8JBaZy', 'https://demoplants21.best-research.eu/projects/info/3696/8JBaZy', 'https://demoplants21.best-research.eu/projects/info/3698/8JBaZy', 'https://demoplants21.best-research.eu/projects/info/3460/8JBaZy', 'https://demoplants21.best-research.eu/projects/info/3493/8JBaZy', 'https://demoplants21.best-research.eu/projects/info/3293/8JBaZy', 'https://demoplants21.best-research.eu/projects/info/3140/8JBaZy', 'https://demoplants21.best-research.eu/projects/info/3941/8JBaZy', 'https://demoplants21.best-research.eu/projects/info/3109/8JBaZy', 'https://demoplants21.best-research.eu/projects/info/3112/8JBaZy', 'https://demoplants21.best-research.eu/projects/info/3168/8JBaZy', 'https://demoplants21.best-research.eu/projects/info/3053/8JBaZy', 'https://demoplants21.best-research.eu/projects/info/3168/8JBaZy', 'https://demoplants21.best-research.eu/projects/info/3504/8JBaZy', 'https://demoplants21.best-research.eu/projects/info/3678/8JBaZy', 'https://demoplants21.best-research.eu/projects/info/3654/8JBaZy', 'https://demoplants21.best-research.eu/projects/info/3633/8JBaZy', 'https://demoplants21.best-research.eu/projects/info/3607/8JBaZy', 'https://demoplants21.best-research.eu/projects/info/3625/8JBaZy', 'https://demoplants21.best-research.eu/projects/info/3640/8JBaZy', 'https://demoplants21.best-research.eu/projects/info/3634/8JBaZy', 'https://demoplants21.best-research.eu/projects/info/3953/8JBaZy', 'https://demoplants21.best-research.eu/projects/info/4012/8JBaZy', 'https://demoplants21.best-research.eu/projects/info/3957/8JBaZy', 'https://demoplants21.best-research.eu/projects/info/3841/8JBaZy', 'https://demoplants21.best-research.eu/projects/info/3840/8JBaZy', 'https://demoplants21.best-research.eu/projects/info/3841/8JBaZy', 'https://demoplants21.best-research.eu/projects/info/3797/8JBaZy', 'https://demoplants21.best-research.eu/projects/info/3810/8JBaZy', 'https://demoplants21.best-research.eu/projects/info/3962/8JBaZy', 'https://demoplants21.best-research.eu/projects/info/3781/8JBaZy', 'https://demoplants21.best-research.eu/projects/info/3779/8JBaZy', 'https://demoplants21.best-research.eu/projects/info/3782/8JBaZy', 'https://demoplants21.best-research.eu/projects/info/3781/8JBaZy', 'https://demoplants21.best-research.eu/projects/info/3782/8JBaZy', 'https://demoplants21.best-research.eu/projects/info/3778/8JBaZy', 'https://demoplants21.best-research.eu/projects/info/3779/8JBaZy', 'https://demoplants21.best-research.eu/projects/info/3778/8JBaZy', 'https://demoplants21.best-research.eu/projects/info/3780/8JBaZy', 'https://demoplants21.best-research.eu/projects/info/4000/8JBaZy', 'https://demoplants21.best-research.eu/projects/info/3577/8JBaZy', 'https://demoplants21.best-research.eu/projects/info/3578/8JBaZy', 'https://demoplants21.best-research.eu/projects/info/3671/8JBaZy', 'https://demoplants21.best-research.eu/projects/info/3461/8JBaZy', 'https://demoplants21.best-research.eu/projects/info/3958/8JBaZy', 'https://demoplants21.best-research.eu/projects/info/3933/8JBaZy', 'https://demoplants21.best-research.eu/projects/info/3508/8JBaZy', 'https://demoplants21.best-research.eu/projects/info/3507/8JBaZy', 'https://demoplants21.best-research.eu/projects/info/3050/8JBaZy', 'https://demoplants21.best-research.eu/projects/info/3216/8JBaZy', 'https://demoplants21.best-research.eu/projects/info/3787/8JBaZy', 'https://demoplants21.best-research.eu/projects/info/3979/8JBaZy', 'https://demoplants21.best-research.eu/projects/info/3792/8JBaZy', 'https://demoplants21.best-research.eu/projects/info/3672/8JBaZy', 'https://demoplants21.best-research.eu/projects/info/3766/8JBaZy', 'https://demoplants21.best-research.eu/projects/info/3828/8JBaZy', 'https://demoplants21.best-research.eu/projects/info/3911/8JBaZy', 'https://demoplants21.best-research.eu/projects/info/3766/8JBaZy', 'https://demoplants21.best-research.eu/projects/info/3911/8JBaZy', 'https://demoplants21.best-research.eu/projects/info/3828/8JBaZy', 'https://demoplants21.best-research.eu/projects/info/3766/8JBaZy', 'https://demoplants21.best-research.eu/projects/info/3884/8JBaZy', 'https://demoplants21.best-research.eu/projects/info/3975/8JBaZy', 'https://demoplants21.best-research.eu/projects/info/3572/8JBaZy', 'https://demoplants21.best-research.eu/projects/info/3246/8JBaZy', 'https://demoplants21.best-research.eu/projects/info/4018/8JBaZy', 'https://demoplants21.best-research.eu/projects/info/4017/8JBaZy', 'https://demoplants21.best-research.eu/projects/info/4019/8JBaZy', 'https://demoplants21.best-research.eu/projects/info/4021/8JBaZy', 'https://demoplants21.best-research.eu/projects/info/3171/8JBaZy', 'https://demoplants21.best-research.eu/projects/info/3560/8JBaZy', 'https://demoplants21.best-research.eu/projects/info/3580/8JBaZy', 'https://demoplants21.best-research.eu/projects/info/3565/8JBaZy', 'https://demoplants21.best-research.eu/projects/info/3819/8JBaZy', 'https://demoplants21.best-research.eu/projects/info/3564/8JBaZy', 'https://demoplants21.best-research.eu/projects/info/3433/8JBaZy', 'https://demoplants21.best-research.eu/projects/info/4032/8JBaZy', 'https://demoplants21.best-research.eu/projects/info/4022/8JBaZy', 'https://demoplants21.best-research.eu/projects/info/3434/8JBaZy', 'https://demoplants21.best-research.eu/projects/info/3435/8JBaZy', 'https://demoplants21.best-research.eu/projects/info/3104/8JBaZy', 'https://demoplants21.best-research.eu/projects/info/3231/8JBaZy', 'https://demoplants21.best-research.eu/projects/info/3880/8JBaZy', 'https://demoplants21.best-research.eu/projects/info/3616/8JBaZy', 'https://demoplants21.best-research.eu/projects/info/3608/8JBaZy', 'https://demoplants21.best-research.eu/projects/info/3663/8JBaZy', 'https://demoplants21.best-research.eu/projects/info/3645/8JBaZy', 'https://demoplants21.best-research.eu/projects/info/3676/8JBaZy', 'https://demoplants21.best-research.eu/projects/info/3618/8JBaZy', 'https://demoplants21.best-research.eu/projects/info/3661/8JBaZy', 'https://demoplants21.best-research.eu/projects/info/3517/8JBaZy', 'https://demoplants21.best-research.eu/projects/info/3098/8JBaZy', 'https://demoplants21.best-research.eu/projects/info/3436/8JBaZy', 'https://demoplants21.best-research.eu/projects/info/3437/8JBaZy', 'https://demoplants21.best-research.eu/projects/info/3638/8JBaZy', 'https://demoplants21.best-research.eu/projects/info/3636/8JBaZy', 'https://demoplants21.best-research.eu/projects/info/3647/8JBaZy', 'https://demoplants21.best-research.eu/projects/info/3614/8JBaZy', 'https://demoplants21.best-research.eu/projects/info/3670/8JBaZy', 'https://demoplants21.best-research.eu/projects/info/3674/8JBaZy', 'https://demoplants21.best-research.eu/projects/info/3165/8JBaZy', 'https://demoplants21.best-research.eu/projects/info/3623/8JBaZy', 'https://demoplants21.best-research.eu/projects/info/3596/8JBaZy', 'https://demoplants21.best-research.eu/projects/info/3772/8JBaZy', 'https://demoplants21.best-research.eu/projects/info/4031/8JBaZy', 'https://demoplants21.best-research.eu/projects/info/3635/8JBaZy', 'https://demoplants21.best-research.eu/projects/info/3486/8JBaZy', 'https://demoplants21.best-research.eu/projects/info/3483/8JBaZy', 'https://demoplants21.best-research.eu/projects/info/3475/8JBaZy', 'https://demoplants21.best-research.eu/projects/info/3866/8JBaZy', 'https://demoplants21.best-research.eu/projects/info/3867/8JBaZy', 'https://demoplants21.best-research.eu/projects/info/3350/8JBaZy', 'https://demoplants21.best-research.eu/projects/info/3465/8JBaZy', 'https://demoplants21.best-research.eu/projects/info/3466/8JBaZy', 'https://demoplants21.best-research.eu/projects/info/3712/8JBaZy', 'https://demoplants21.best-research.eu/projects/info/3406/8JBaZy', 'https://demoplants21.best-research.eu/projects/info/3454/8JBaZy', 'https://demoplants21.best-research.eu/projects/info/3679/8JBaZy', 'https://demoplants21.best-research.eu/projects/info/3627/8JBaZy', 'https://demoplants21.best-research.eu/projects/info/3612/8JBaZy', 'https://demoplants21.best-research.eu/projects/info/3613/8JBaZy', 'https://demoplants21.best-research.eu/projects/info/3668/8JBaZy', 'https://demoplants21.best-research.eu/projects/info/3667/8JBaZy', 'https://demoplants21.best-research.eu/projects/info/3169/8JBaZy', 'https://demoplants21.best-research.eu/projects/info/3439/8JBaZy', 'https://demoplants21.best-research.eu/projects/info/3162/8JBaZy', 'https://demoplants21.best-research.eu/projects/info/3163/8JBaZy', 'https://demoplants21.best-research.eu/projects/info/3162/8JBaZy', 'https://demoplants21.best-research.eu/projects/info/3163/8JBaZy', 'https://demoplants21.best-research.eu/projects/info/3120/8JBaZy', 'https://demoplants21.best-research.eu/projects/info/3068/8JBaZy', 'https://demoplants21.best-research.eu/projects/info/3749/8JBaZy', 'https://demoplants21.best-research.eu/projects/info/3762/8JBaZy', 'https://demoplants21.best-research.eu/projects/info/3739/8JBaZy', 'https://demoplants21.best-research.eu/projects/info/3763/8JBaZy', 'https://demoplants21.best-research.eu/projects/info/3755/8JBaZy', 'https://demoplants21.best-research.eu/projects/info/3113/8JBaZy', 'https://demoplants21.best-research.eu/projects/info/3540/8JBaZy', 'https://demoplants21.best-research.eu/projects/info/3096/8JBaZy', 'https://demoplants21.best-research.eu/projects/info/3346/8JBaZy', 'https://demoplants21.best-research.eu/projects/info/3347/8JBaZy', 'https://demoplants21.best-research.eu/projects/info/3063/8JBaZy', 'https://demoplants21.best-research.eu/projects/info/3916/8JBaZy', 'https://demoplants21.best-research.eu/projects/info/3917/8JBaZy', 'https://demoplants21.best-research.eu/projects/info/3764/8JBaZy', 'https://demoplants21.best-research.eu/projects/info/3883/8JBaZy', 'https://demoplants21.best-research.eu/projects/info/3738/8JBaZy', 'https://demoplants21.best-research.eu/projects/info/3266/8JBaZy', 'https://demoplants21.best-research.eu/projects/info/3949/8JBaZy', 'https://demoplants21.best-research.eu/projects/info/3806/8JBaZy']\n"
     ]
    }
   ],
   "source": [
    "from urllib.parse import urljoin\n",
    "from bs4 import BeautifulSoup\n",
    "\n",
    "soup = BeautifulSoup(html_doc, 'html.parser')\n",
    "\n",
    "# Find all <td> tags with class=\"actions\"\n",
    "action_tds = soup.find_all('td', class_='actions')\n",
    "\n",
    "# Extract links from the <a> tags within the <td> tags\n",
    "base_url = 'https://demoplants21.best-research.eu'\n",
    "links = [urljoin(base_url, td.find('a')['href']) for td in action_tds]\n",
    "\n",
    "print(links)"
   ]
  },
  {
   "cell_type": "code",
   "execution_count": 4,
   "metadata": {},
   "outputs": [
    {
     "data": {
      "text/plain": [
       "750"
      ]
     },
     "execution_count": 4,
     "metadata": {},
     "output_type": "execute_result"
    }
   ],
   "source": [
    "len(links)"
   ]
  },
  {
   "cell_type": "markdown",
   "metadata": {},
   "source": [
    "## Extract info from Links"
   ]
  },
  {
   "cell_type": "code",
   "execution_count": 7,
   "metadata": {},
   "outputs": [
    {
     "name": "stdout",
     "output_type": "stream",
     "text": [
      "urls 1 : https://demoplants21.best-research.eu/projects/info/3641/8JBaZy\n",
      "urls 2 : https://demoplants21.best-research.eu/projects/info/3726/8JBaZy\n",
      "urls 3 : https://demoplants21.best-research.eu/projects/info/3717/8JBaZy\n",
      "urls 4 : https://demoplants21.best-research.eu/projects/info/3886/8JBaZy\n",
      "urls 5 : https://demoplants21.best-research.eu/projects/info/3717/8JBaZy\n",
      "All data saved to test_data.json\n"
     ]
    }
   ],
   "source": [
    "import requests\n",
    "from bs4 import BeautifulSoup\n",
    "import json\n",
    "\n",
    "def extract_table_data(url, count):\n",
    "    # Send a GET request to the URL\n",
    "    print(f\"urls {count} : {url}\" )\n",
    "    response = requests.get(url)\n",
    "    base_url = \"https://demoplants21.best-research.eu\"\n",
    "    # Parse the HTML content\n",
    "    soup = BeautifulSoup(response.content, 'html.parser')\n",
    "\n",
    "    # Find the div with class \"modal-body\" and id \"viewproject_content\"\n",
    "    div_content = soup.find('div', class_='modal-body', id='viewproject_content')\n",
    "\n",
    "    # Create a dictionary to store the table data\n",
    "    data = {}\n",
    "\n",
    "    # Extract project information from the second <div class=\"well\">\n",
    "    project_info = {}\n",
    "    project_div = div_content.find_all('div', class_='well')[1]\n",
    "    project_table = project_div.find('table')\n",
    "    if project_table:\n",
    "        for row in project_table.find_all('tr'):\n",
    "            cells = row.find_all('td')\n",
    "            if len(cells) == 2:\n",
    "                key = cells[0].text.strip()\n",
    "                value = cells[1].text.strip()\n",
    "                project_info[key] = value\n",
    "\n",
    "    # Group project information under \"Project_Info\" key\n",
    "    data[\"Project_Info\"] = project_info\n",
    "\n",
    "    # Manually assign legends\n",
    "    legends = ['Geodata', 'Production', 'Additional Information', 'Contact Information', 'Files']\n",
    "\n",
    "    # Loop through each legend and find its associated table\n",
    "    for legend in legends:\n",
    "        legend_element = div_content.find('legend', string=legend)\n",
    "        if legend_element:\n",
    "            # Find the next table sibling of the legend\n",
    "            table = legend_element.find_next_sibling('div').find('table')\n",
    "\n",
    "            # Extract table rows\n",
    "            rows = {}\n",
    "            if legend not in ['Contact Information', 'Files']:\n",
    "                for row in table.find_all('tr'):\n",
    "                    cells = row.find_all('td')\n",
    "                    # Use the first field as the key and the second field as the value\n",
    "                    if len(cells) == 2:\n",
    "                        key = cells[0].text.strip()\n",
    "                        value = cells[1].text.strip()\n",
    "                        rows[key] = value\n",
    "            elif legend == 'Contact Information':\n",
    "                # Treat contact information as a single key-value pair\n",
    "                contact_info = table.find('td').text.strip()\n",
    "                data[legend] = contact_info\n",
    "            elif legend == 'Files':\n",
    "                # Extract the filename from the \"Files\" section\n",
    "                try:\n",
    "                    file_name = table.find('img')['src']\n",
    "                    data[legend] = f'{base_url}{file_name}'\n",
    "                except TypeError:\n",
    "                    data[legend] = \"No file available\"\n",
    "\n",
    "            # Add the header and table data to the dictionary\n",
    "            if legend not in ['Contact Information', 'Files']:\n",
    "                data[legend] = rows\n",
    "\n",
    "    return data\n",
    "\n",
    "all_data = {}\n",
    "count = 1\n",
    "test_links = ['https://demoplants21.best-research.eu/projects/info/3701/8JBaZy']\n",
    "for link in links:\n",
    "    url_data = extract_table_data(link, count)\n",
    "    all_data[link] = url_data\n",
    "    count += 1\n",
    "    if(count==6):\n",
    "        break\n",
    "\n",
    "# Save all data to a file\n",
    "with open(\"test_data.json\", \"w\") as file:\n",
    "    json.dump(all_data, file, indent=4)\n",
    "\n",
    "print(\"All data saved to test_data.json\")\n"
   ]
  },
  {
   "cell_type": "markdown",
   "metadata": {},
   "source": [
    "## TO TABLE"
   ]
  },
  {
   "cell_type": "code",
   "execution_count": 21,
   "metadata": {},
   "outputs": [
    {
     "name": "stdout",
     "output_type": "stream",
     "text": [
      "{'https://demoplants21.best-research.eu/projects/info/3641/8JBaZy': {'Project_Info': {'Project Owner...': 'Aanevoima Oy', 'Project name': 'Aanekoski power plant', 'Status': 'operational'}, 'Geodata': {'Country': 'Finland', 'City': 'Äänekoski'}, 'Production': {'Type': 'TRL 9 Commercial', 'Technology': 'Bubbling Fluidized Bed', 'Raw Material': 'biomass / biomass coal blends', 'Input 1': 'biomass', 'Input 2': 'peat, sludge, HFO', 'Output 1': 'power (electricity) (38 MWel )', 'Output 2': 'heat (230 MWth)'}, 'Additional Information': {'Technology Brief': '3 boilers; BFB and 2 oil burners, 173 MW fuel input', 'Additional Information': 'http://www.ieabcc.nl/database/info/cofiring/info.php?id=195'}, 'Contact Information': 'n.a.'}, 'https://demoplants21.best-research.eu/projects/info/3726/8JBaZy': {'Project_Info': {'Project Owner...': 'Aarhus University', 'Project name': 'Center for Biorefining Technologies', 'Status': 'operational', 'Startup': '2015'}, 'Geodata': {'Country': 'Denmark', 'City': 'Foulum'}, 'Production': {'Type': 'TRL 4-5 Pilot', 'Technology': 'PVC3: Transport fuel intermediates from thermolytic processes', 'Raw Material': 'agricultural residues', 'Input 1': 'sewage sludge, manure, industrial wastes and lignocellulosics', 'Output 1': 'bio-oil (30 t/y\\r\\n)'}, 'Contact Information': 'Patrick Biller \\r\\npbiller@eng.au.dk'}, 'https://demoplants21.best-research.eu/projects/info/3717/8JBaZy': {'Project_Info': {'Project Owner...': 'Advanced Biofuels Solutions Ltd', 'Project name': 'Swindon Advanced Biofuels Plant', 'Status': 'operational', 'Startup': '2022'}, 'Geodata': {'Country': 'United Kingdom', 'City': 'Swindon'}, 'Production': {'Type': 'TRL 8 First-of-a-kind commercial', 'Technology': 'Fuel Synthesis', 'Technology additional information': 'ABSL RadGas and Wood VESTA technology', 'Raw Material': 'organic residues and waste streams', 'Input 1': 'Refuse derived fuel and waste wood (8,000 t/y\\r\\n)', 'Output 1': 'SNG (1,500 t/y\\r\\n)', 'Output 2': 'hydrogen (500 t/y\\r\\n)', 'Output additional information': 'SNG and/or Biohydrogen'}, 'Additional Information': {'Total Investment': 'GBP 30,000,000', 'Funding': 'GBP 11,000,000', 'Funding Explanation': '11 million pound sterling public funding', 'Technology Brief': 'The facility will accept 8,000 tonnes per year of waste from the local area and convert it into 22GWh, or 2.2 million cubic metres, of natural gas, enough to heat 1,800 homes or fuel 75 HGVs.\\r\\n\\r\\nThe plant will also produce 6,000 tonnes of carbon dioxide to be liquified for use in industry and 400 tonnes of vitrified ash for use as an aggregate.\\r\\n\\r\\nThe process is made up of the following steps:\\r\\n\\r\\n1.\\tPrepared waste is brought to the site in a moving floor trailer and then stored\\r\\n2.\\tThe waste is conveyed to an oxy-steam fluidised bed gasifier to produce a dirty syngas\\r\\n3.\\tThe dirty syngas is heated and exposed to oxygen free radicals to catalyse the reformation of tar\\r\\n4.\\tThe tar free syngas is cooled with steam raised used elsewhere in the process\\r\\n5.\\tThe gas is filtered to remove particulates and then scrubbed to remove acid and alkali contaminants\\r\\n6.\\tThe clean syngas is compressed and then passed over catalysts to convert it into natural gas and carbon dioxide\\r\\n7.\\tThe carbon dioxide is separated and liquified\\r\\n8.\\tThe remaining natural gas is metered into the grid\\r\\n\\r\\nThe process equipment has been installed and integrated on site and commissioning is underway. Commissioning is due to complete in 2021. Once it is operational the plant will act as a template for large scale commercial facilities.', 'Additional Information': 'Please see www.absl.tech and www.linkedin.com/company/advanced-biofuel-solutions-ltd.\\r\\n\\r\\nBiohydrogen is a low carbon fuel that does not generate any carbon emissions when it is used. The RadGas process delivers hydrogen at a lower price than competing technologies with far greater greenhouse gas savings.\\r\\n\\r\\nHydrogen is seen as the fuel of the future for sectors that cannot convert to electricity such as industrial high heat applications or heavy goods transport. Organisations such as Shell, BP and Air Products are investing heavily in hydrogen technology.\\r\\n\\r\\nLow carbon hydrogen can be produced by the following processes:\\r\\n\\r\\na.\\tGreen Hydrogen is made by the electrolysis of water using renewable electricity.\\r\\nb.\\tBlue hydrogen is made by reforming natural gas and sequestering the carbon dioxide produced in long term geological storage.\\r\\nc.\\tBiohydrogen is made by reforming wastes and residues.\\r\\n\\r\\nEach of these technologies have their own strengths and weaknesses and each will play a role in decarbonising the energy sector. The key advantages of biohydrogen are:\\r\\n\\r\\n1.\\tGreenhouse gas emissions associated with biohydrogen are low. When biohydrogen is combined with carbon storage it generates significant negative emissions.\\r\\n2.\\tUsing fossil natural gas as a reference, GHG savings from biohydrogen can be three times greater than savings from green or blue hydrogen.\\r\\n3.\\tBiohydrogen produced from wastes has a lower cost than blue hydrogen, which requires fossil fuel feedstocks, and green hydrogen, which has high capital costs.\\r\\n4.\\tBiohydrogen production is constant across the year while biohydrogen production is intermittent, driven by the availability of renewable electricity.\\r\\n5.\\tBiohydrogen is sustainable, renewable and forms part of the circular economy.\\r\\n6.\\tBiohydrogen can be produced at relatively small scales to match demand as the market develops.\\r\\n7.\\tBiohydrogen can be produced close to hydrogen consumers, avoiding expensive transport costs.\\r\\n\\r\\nABSL will demonstrate the production of biohydrogen at the Swindon plant. The facility can switch between biohydrogen and BioSNG production on demand. This flexibility will allow the plant to supply hydrogen projects as the market develops.'}, 'Contact Information': 'Tel: 01793 832 860\\r\\nUnit A4, Marston Gate\\r\\nSouth Marston Industrial Estate\\r\\nStirling Road\\r\\nSwindon\\r\\nSN3 4DE\\r\\nUK'}, 'https://demoplants21.best-research.eu/projects/info/3886/8JBaZy': {'Project_Info': {'Project Owner...': 'Advanced Biofuels Solutions Ltd', 'Project name': 'ABSL bio-SNG demonstrator', 'Status': 'under construction', 'Startup': '2020'}, 'Geodata': {'Country': 'United Kingdom', 'City': 'Swindon'}, 'Production': {'Type': 'TRL 6-7 Demonstration', 'Technology': '', 'Technology additional information': 'RadGas. Follow on from GoGreenGas project – two stage (Plasma?) process.', 'Raw Material': 'other', 'Input 1': 'RDF (8,000 t/y\\r\\n)', 'Output 1': 'SNG (2,200,000 m3/y)'}, 'Additional Information': {'Technology Brief': 'Follow on from GoGreenGas project.'}, 'Contact Information': 'Andy Cornell info@absl.tech +44 1793 832860'}}\n"
     ]
    }
   ],
   "source": [
    "import json\n",
    "\n",
    "# Load JSON data from a file in a specific directory\n",
    "with open('test_data.json', 'r') as json_file:\n",
    "    data = json.load(json_file)\n",
    "\n",
    "# Now 'data' contains the JSON data loaded as a Python dictionary\n",
    "print(data)"
   ]
  },
  {
   "cell_type": "code",
   "execution_count": 22,
   "metadata": {},
   "outputs": [],
   "source": [
    "import pandas as pd\n",
    "\n",
    "df = pd.DataFrame.from_dict(data, orient='index')"
   ]
  },
  {
   "cell_type": "code",
   "execution_count": 23,
   "metadata": {},
   "outputs": [
    {
     "data": {
      "text/html": [
       "<div>\n",
       "<style scoped>\n",
       "    .dataframe tbody tr th:only-of-type {\n",
       "        vertical-align: middle;\n",
       "    }\n",
       "\n",
       "    .dataframe tbody tr th {\n",
       "        vertical-align: top;\n",
       "    }\n",
       "\n",
       "    .dataframe thead th {\n",
       "        text-align: right;\n",
       "    }\n",
       "</style>\n",
       "<table border=\"1\" class=\"dataframe\">\n",
       "  <thead>\n",
       "    <tr style=\"text-align: right;\">\n",
       "      <th></th>\n",
       "      <th>Project_Info</th>\n",
       "      <th>Geodata</th>\n",
       "      <th>Production</th>\n",
       "      <th>Additional Information</th>\n",
       "      <th>Contact Information</th>\n",
       "    </tr>\n",
       "  </thead>\n",
       "  <tbody>\n",
       "    <tr>\n",
       "      <th>https://demoplants21.best-research.eu/projects/info/3641/8JBaZy</th>\n",
       "      <td>{'Project Owner...': 'Aanevoima Oy', 'Project ...</td>\n",
       "      <td>{'Country': 'Finland', 'City': 'Äänekoski'}</td>\n",
       "      <td>{'Type': 'TRL 9 Commercial', 'Technology': 'Bu...</td>\n",
       "      <td>{'Technology Brief': '3 boilers; BFB and 2 oil...</td>\n",
       "      <td>n.a.</td>\n",
       "    </tr>\n",
       "    <tr>\n",
       "      <th>https://demoplants21.best-research.eu/projects/info/3726/8JBaZy</th>\n",
       "      <td>{'Project Owner...': 'Aarhus University', 'Pro...</td>\n",
       "      <td>{'Country': 'Denmark', 'City': 'Foulum'}</td>\n",
       "      <td>{'Type': 'TRL 4-5 Pilot', 'Technology': 'PVC3:...</td>\n",
       "      <td>NaN</td>\n",
       "      <td>Patrick Biller \\r\\npbiller@eng.au.dk</td>\n",
       "    </tr>\n",
       "    <tr>\n",
       "      <th>https://demoplants21.best-research.eu/projects/info/3717/8JBaZy</th>\n",
       "      <td>{'Project Owner...': 'Advanced Biofuels Soluti...</td>\n",
       "      <td>{'Country': 'United Kingdom', 'City': 'Swindon'}</td>\n",
       "      <td>{'Type': 'TRL 8 First-of-a-kind commercial', '...</td>\n",
       "      <td>{'Total Investment': 'GBP 30,000,000', 'Fundin...</td>\n",
       "      <td>Tel: 01793 832 860\\r\\nUnit A4, Marston Gate\\r\\...</td>\n",
       "    </tr>\n",
       "    <tr>\n",
       "      <th>https://demoplants21.best-research.eu/projects/info/3886/8JBaZy</th>\n",
       "      <td>{'Project Owner...': 'Advanced Biofuels Soluti...</td>\n",
       "      <td>{'Country': 'United Kingdom', 'City': 'Swindon'}</td>\n",
       "      <td>{'Type': 'TRL 6-7 Demonstration', 'Technology'...</td>\n",
       "      <td>{'Technology Brief': 'Follow on from GoGreenGa...</td>\n",
       "      <td>Andy Cornell info@absl.tech +44 1793 832860</td>\n",
       "    </tr>\n",
       "  </tbody>\n",
       "</table>\n",
       "</div>"
      ],
      "text/plain": [
       "                                                                                         Project_Info  \\\n",
       "https://demoplants21.best-research.eu/projects/...  {'Project Owner...': 'Aanevoima Oy', 'Project ...   \n",
       "https://demoplants21.best-research.eu/projects/...  {'Project Owner...': 'Aarhus University', 'Pro...   \n",
       "https://demoplants21.best-research.eu/projects/...  {'Project Owner...': 'Advanced Biofuels Soluti...   \n",
       "https://demoplants21.best-research.eu/projects/...  {'Project Owner...': 'Advanced Biofuels Soluti...   \n",
       "\n",
       "                                                                                             Geodata  \\\n",
       "https://demoplants21.best-research.eu/projects/...       {'Country': 'Finland', 'City': 'Äänekoski'}   \n",
       "https://demoplants21.best-research.eu/projects/...          {'Country': 'Denmark', 'City': 'Foulum'}   \n",
       "https://demoplants21.best-research.eu/projects/...  {'Country': 'United Kingdom', 'City': 'Swindon'}   \n",
       "https://demoplants21.best-research.eu/projects/...  {'Country': 'United Kingdom', 'City': 'Swindon'}   \n",
       "\n",
       "                                                                                           Production  \\\n",
       "https://demoplants21.best-research.eu/projects/...  {'Type': 'TRL 9 Commercial', 'Technology': 'Bu...   \n",
       "https://demoplants21.best-research.eu/projects/...  {'Type': 'TRL 4-5 Pilot', 'Technology': 'PVC3:...   \n",
       "https://demoplants21.best-research.eu/projects/...  {'Type': 'TRL 8 First-of-a-kind commercial', '...   \n",
       "https://demoplants21.best-research.eu/projects/...  {'Type': 'TRL 6-7 Demonstration', 'Technology'...   \n",
       "\n",
       "                                                                               Additional Information  \\\n",
       "https://demoplants21.best-research.eu/projects/...  {'Technology Brief': '3 boilers; BFB and 2 oil...   \n",
       "https://demoplants21.best-research.eu/projects/...                                                NaN   \n",
       "https://demoplants21.best-research.eu/projects/...  {'Total Investment': 'GBP 30,000,000', 'Fundin...   \n",
       "https://demoplants21.best-research.eu/projects/...  {'Technology Brief': 'Follow on from GoGreenGa...   \n",
       "\n",
       "                                                                                  Contact Information  \n",
       "https://demoplants21.best-research.eu/projects/...                                               n.a.  \n",
       "https://demoplants21.best-research.eu/projects/...               Patrick Biller \\r\\npbiller@eng.au.dk  \n",
       "https://demoplants21.best-research.eu/projects/...  Tel: 01793 832 860\\r\\nUnit A4, Marston Gate\\r\\...  \n",
       "https://demoplants21.best-research.eu/projects/...        Andy Cornell info@absl.tech +44 1793 832860  "
      ]
     },
     "execution_count": 23,
     "metadata": {},
     "output_type": "execute_result"
    }
   ],
   "source": [
    "df"
   ]
  },
  {
   "cell_type": "code",
   "execution_count": 24,
   "metadata": {},
   "outputs": [
    {
     "data": {
      "text/html": [
       "<div>\n",
       "<style scoped>\n",
       "    .dataframe tbody tr th:only-of-type {\n",
       "        vertical-align: middle;\n",
       "    }\n",
       "\n",
       "    .dataframe tbody tr th {\n",
       "        vertical-align: top;\n",
       "    }\n",
       "\n",
       "    .dataframe thead th {\n",
       "        text-align: right;\n",
       "    }\n",
       "</style>\n",
       "<table border=\"1\" class=\"dataframe\">\n",
       "  <thead>\n",
       "    <tr style=\"text-align: right;\">\n",
       "      <th></th>\n",
       "      <th>Project_Info</th>\n",
       "      <th>Geodata</th>\n",
       "      <th>Production</th>\n",
       "      <th>Additional Information</th>\n",
       "      <th>Contact Information</th>\n",
       "      <th>Country</th>\n",
       "      <th>City</th>\n",
       "      <th>ZIP</th>\n",
       "      <th>State</th>\n",
       "    </tr>\n",
       "  </thead>\n",
       "  <tbody>\n",
       "    <tr>\n",
       "      <th>https://demoplants21.best-research.eu/projects/info/3641/8JBaZy</th>\n",
       "      <td>{'Project Owner...': 'Aanevoima Oy', 'Project ...</td>\n",
       "      <td>{'Country': 'Finland', 'City': 'Äänekoski'}</td>\n",
       "      <td>{'Type': 'TRL 9 Commercial', 'Technology': 'Bu...</td>\n",
       "      <td>{'Technology Brief': '3 boilers; BFB and 2 oil...</td>\n",
       "      <td>n.a.</td>\n",
       "      <td>Finland</td>\n",
       "      <td>Äänekoski</td>\n",
       "      <td>None</td>\n",
       "      <td>None</td>\n",
       "    </tr>\n",
       "    <tr>\n",
       "      <th>https://demoplants21.best-research.eu/projects/info/3726/8JBaZy</th>\n",
       "      <td>{'Project Owner...': 'Aarhus University', 'Pro...</td>\n",
       "      <td>{'Country': 'Denmark', 'City': 'Foulum'}</td>\n",
       "      <td>{'Type': 'TRL 4-5 Pilot', 'Technology': 'PVC3:...</td>\n",
       "      <td>NaN</td>\n",
       "      <td>Patrick Biller \\r\\npbiller@eng.au.dk</td>\n",
       "      <td>Denmark</td>\n",
       "      <td>Foulum</td>\n",
       "      <td>None</td>\n",
       "      <td>None</td>\n",
       "    </tr>\n",
       "    <tr>\n",
       "      <th>https://demoplants21.best-research.eu/projects/info/3717/8JBaZy</th>\n",
       "      <td>{'Project Owner...': 'Advanced Biofuels Soluti...</td>\n",
       "      <td>{'Country': 'United Kingdom', 'City': 'Swindon'}</td>\n",
       "      <td>{'Type': 'TRL 8 First-of-a-kind commercial', '...</td>\n",
       "      <td>{'Total Investment': 'GBP 30,000,000', 'Fundin...</td>\n",
       "      <td>Tel: 01793 832 860\\r\\nUnit A4, Marston Gate\\r\\...</td>\n",
       "      <td>United Kingdom</td>\n",
       "      <td>Swindon</td>\n",
       "      <td>None</td>\n",
       "      <td>None</td>\n",
       "    </tr>\n",
       "    <tr>\n",
       "      <th>https://demoplants21.best-research.eu/projects/info/3886/8JBaZy</th>\n",
       "      <td>{'Project Owner...': 'Advanced Biofuels Soluti...</td>\n",
       "      <td>{'Country': 'United Kingdom', 'City': 'Swindon'}</td>\n",
       "      <td>{'Type': 'TRL 6-7 Demonstration', 'Technology'...</td>\n",
       "      <td>{'Technology Brief': 'Follow on from GoGreenGa...</td>\n",
       "      <td>Andy Cornell info@absl.tech +44 1793 832860</td>\n",
       "      <td>United Kingdom</td>\n",
       "      <td>Swindon</td>\n",
       "      <td>None</td>\n",
       "      <td>None</td>\n",
       "    </tr>\n",
       "  </tbody>\n",
       "</table>\n",
       "</div>"
      ],
      "text/plain": [
       "                                                                                         Project_Info  \\\n",
       "https://demoplants21.best-research.eu/projects/...  {'Project Owner...': 'Aanevoima Oy', 'Project ...   \n",
       "https://demoplants21.best-research.eu/projects/...  {'Project Owner...': 'Aarhus University', 'Pro...   \n",
       "https://demoplants21.best-research.eu/projects/...  {'Project Owner...': 'Advanced Biofuels Soluti...   \n",
       "https://demoplants21.best-research.eu/projects/...  {'Project Owner...': 'Advanced Biofuels Soluti...   \n",
       "\n",
       "                                                                                             Geodata  \\\n",
       "https://demoplants21.best-research.eu/projects/...       {'Country': 'Finland', 'City': 'Äänekoski'}   \n",
       "https://demoplants21.best-research.eu/projects/...          {'Country': 'Denmark', 'City': 'Foulum'}   \n",
       "https://demoplants21.best-research.eu/projects/...  {'Country': 'United Kingdom', 'City': 'Swindon'}   \n",
       "https://demoplants21.best-research.eu/projects/...  {'Country': 'United Kingdom', 'City': 'Swindon'}   \n",
       "\n",
       "                                                                                           Production  \\\n",
       "https://demoplants21.best-research.eu/projects/...  {'Type': 'TRL 9 Commercial', 'Technology': 'Bu...   \n",
       "https://demoplants21.best-research.eu/projects/...  {'Type': 'TRL 4-5 Pilot', 'Technology': 'PVC3:...   \n",
       "https://demoplants21.best-research.eu/projects/...  {'Type': 'TRL 8 First-of-a-kind commercial', '...   \n",
       "https://demoplants21.best-research.eu/projects/...  {'Type': 'TRL 6-7 Demonstration', 'Technology'...   \n",
       "\n",
       "                                                                               Additional Information  \\\n",
       "https://demoplants21.best-research.eu/projects/...  {'Technology Brief': '3 boilers; BFB and 2 oil...   \n",
       "https://demoplants21.best-research.eu/projects/...                                                NaN   \n",
       "https://demoplants21.best-research.eu/projects/...  {'Total Investment': 'GBP 30,000,000', 'Fundin...   \n",
       "https://demoplants21.best-research.eu/projects/...  {'Technology Brief': 'Follow on from GoGreenGa...   \n",
       "\n",
       "                                                                                  Contact Information  \\\n",
       "https://demoplants21.best-research.eu/projects/...                                               n.a.   \n",
       "https://demoplants21.best-research.eu/projects/...               Patrick Biller \\r\\npbiller@eng.au.dk   \n",
       "https://demoplants21.best-research.eu/projects/...  Tel: 01793 832 860\\r\\nUnit A4, Marston Gate\\r\\...   \n",
       "https://demoplants21.best-research.eu/projects/...        Andy Cornell info@absl.tech +44 1793 832860   \n",
       "\n",
       "                                                           Country       City  \\\n",
       "https://demoplants21.best-research.eu/projects/...         Finland  Äänekoski   \n",
       "https://demoplants21.best-research.eu/projects/...         Denmark     Foulum   \n",
       "https://demoplants21.best-research.eu/projects/...  United Kingdom    Swindon   \n",
       "https://demoplants21.best-research.eu/projects/...  United Kingdom    Swindon   \n",
       "\n",
       "                                                     ZIP State  \n",
       "https://demoplants21.best-research.eu/projects/...  None  None  \n",
       "https://demoplants21.best-research.eu/projects/...  None  None  \n",
       "https://demoplants21.best-research.eu/projects/...  None  None  \n",
       "https://demoplants21.best-research.eu/projects/...  None  None  "
      ]
     },
     "execution_count": 24,
     "metadata": {},
     "output_type": "execute_result"
    }
   ],
   "source": [
    "\n",
    "# Define a function to extract values for 'Country', 'City', 'ZIP', and 'State'\n",
    "def extract_geodata(geodata):\n",
    "    try:\n",
    "        country = geodata.get('Country', None)\n",
    "        city = geodata.get('City', None)\n",
    "        zip_code = geodata.get('ZIP', None)\n",
    "        state = geodata.get('State', None)\n",
    "        return pd.Series([country, city, zip_code, state])\n",
    "    except AttributeError:\n",
    "        # Handle cases where 'Geodata' is not a dictionary\n",
    "        return pd.Series([None, None, None, None])\n",
    "\n",
    "# Apply the function to the 'Geodata' column\n",
    "df[['Country', 'City', 'ZIP', 'State']] = df['Geodata'].apply(extract_geodata)\n",
    "\n",
    "df\n"
   ]
  },
  {
   "cell_type": "code",
   "execution_count": 25,
   "metadata": {},
   "outputs": [
    {
     "name": "stderr",
     "output_type": "stream",
     "text": [
      "C:\\Users\\faiza\\AppData\\Local\\Temp\\ipykernel_13940\\3223087941.py:1: FutureWarning: Series.__getitem__ treating keys as positions is deprecated. In a future version, integer keys will always be treated as labels (consistent with DataFrame behavior). To access a value by position, use `ser.iloc[pos]`\n",
      "  df['Project_Info'][3]\n"
     ]
    },
    {
     "data": {
      "text/plain": [
       "{'Project Owner...': 'Advanced Biofuels Solutions Ltd',\n",
       " 'Project name': 'ABSL bio-SNG demonstrator',\n",
       " 'Status': 'under construction',\n",
       " 'Startup': '2020'}"
      ]
     },
     "execution_count": 25,
     "metadata": {},
     "output_type": "execute_result"
    }
   ],
   "source": [
    "df['Project_Info'][3]"
   ]
  },
  {
   "cell_type": "code",
   "execution_count": null,
   "metadata": {},
   "outputs": [],
   "source": []
  }
 ],
 "metadata": {
  "kernelspec": {
   "display_name": "env",
   "language": "python",
   "name": "python3"
  },
  "language_info": {
   "codemirror_mode": {
    "name": "ipython",
    "version": 3
   },
   "file_extension": ".py",
   "mimetype": "text/x-python",
   "name": "python",
   "nbconvert_exporter": "python",
   "pygments_lexer": "ipython3",
   "version": "3.12.2"
  }
 },
 "nbformat": 4,
 "nbformat_minor": 2
}
