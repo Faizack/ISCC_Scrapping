{
 "cells": [
  {
   "cell_type": "markdown",
   "metadata": {
    "collapsed": false
   },
   "source": [
    "<a href=\"https://colab.research.google.com/github/ExtractTable/ExtractTable-py/blob/master/example-code.ipynb\" target=\"_parent\"><img src=\"https://colab.research.google.com/assets/colab-badge.svg\" alt=\"Open In Colab\"/></a>"
   ]
  },
  {
   "cell_type": "markdown",
   "metadata": {
    "collapsed": false
   },
   "source": [
    "# 1. Installation"
   ]
  },
  {
   "cell_type": "code",
   "execution_count": 2,
   "metadata": {
    "collapsed": false,
    "pycharm": {
     "name": "#%%\n"
    }
   },
   "outputs": [
    {
     "name": "stdout",
     "output_type": "stream",
     "text": [
      "Requirement already satisfied: ExtractTable in c:\\python312\\lib\\site-packages (2.4.0)\n",
      "Requirement already satisfied: requests>=2.21 in c:\\python312\\lib\\site-packages (from ExtractTable) (2.31.0)\n",
      "Requirement already satisfied: pandas>=0.24 in c:\\python312\\lib\\site-packages (from ExtractTable) (2.2.1)\n",
      "Requirement already satisfied: PyPDF2>=1.26 in c:\\python312\\lib\\site-packages (from ExtractTable) (3.0.1)\n",
      "Requirement already satisfied: numpy<2,>=1.26.0 in c:\\python312\\lib\\site-packages (from pandas>=0.24->ExtractTable) (1.26.4)\n",
      "Requirement already satisfied: python-dateutil>=2.8.2 in c:\\users\\faiza\\appdata\\roaming\\python\\python312\\site-packages (from pandas>=0.24->ExtractTable) (2.8.2)\n",
      "Requirement already satisfied: pytz>=2020.1 in c:\\python312\\lib\\site-packages (from pandas>=0.24->ExtractTable) (2024.1)\n",
      "Requirement already satisfied: tzdata>=2022.7 in c:\\python312\\lib\\site-packages (from pandas>=0.24->ExtractTable) (2024.1)\n",
      "Requirement already satisfied: charset-normalizer<4,>=2 in c:\\python312\\lib\\site-packages (from requests>=2.21->ExtractTable) (3.3.2)\n",
      "Requirement already satisfied: idna<4,>=2.5 in c:\\python312\\lib\\site-packages (from requests>=2.21->ExtractTable) (3.6)\n",
      "Requirement already satisfied: urllib3<3,>=1.21.1 in c:\\python312\\lib\\site-packages (from requests>=2.21->ExtractTable) (2.2.1)\n",
      "Requirement already satisfied: certifi>=2017.4.17 in c:\\python312\\lib\\site-packages (from requests>=2.21->ExtractTable) (2024.2.2)\n",
      "Requirement already satisfied: six>=1.5 in c:\\users\\faiza\\appdata\\roaming\\python\\python312\\site-packages (from python-dateutil>=2.8.2->pandas>=0.24->ExtractTable) (1.16.0)\n"
     ]
    }
   ],
   "source": [
    "!pip install -U ExtractTable"
   ]
  },
  {
   "cell_type": "markdown",
   "metadata": {
    "collapsed": false
   },
   "source": [
    "# 2. Import and check version"
   ]
  },
  {
   "cell_type": "code",
   "execution_count": 3,
   "metadata": {
    "collapsed": false,
    "pycharm": {
     "name": "#%%\n"
    }
   },
   "outputs": [],
   "source": [
    "from ExtractTable import ExtractTable"
   ]
  },
  {
   "cell_type": "code",
   "execution_count": 4,
   "metadata": {
    "collapsed": false,
    "pycharm": {
     "name": "#%%\n"
    }
   },
   "outputs": [
    {
     "name": "stdout",
     "output_type": "stream",
     "text": [
      "ExtractTable_2.4.0\n"
     ]
    }
   ],
   "source": [
    "print(ExtractTable.VERSION)"
   ]
  },
  {
   "cell_type": "markdown",
   "metadata": {
    "collapsed": false
   },
   "source": [
    "# 3. Create Session & Validate API Key\n"
   ]
  },
  {
   "cell_type": "markdown",
   "metadata": {
    "collapsed": false
   },
   "source": [
    "## 3.1 **Create Session** with your API Key"
   ]
  },
  {
   "cell_type": "code",
   "execution_count": 5,
   "metadata": {
    "collapsed": false,
    "pycharm": {
     "name": "#%%\n"
    }
   },
   "outputs": [],
   "source": [
    "api_key = \"rYMbea23zg0dXFt2ekBnSgNQjB6ZQyvrGWOCKGlX\""
   ]
  },
  {
   "cell_type": "code",
   "execution_count": 6,
   "metadata": {
    "collapsed": false,
    "pycharm": {
     "name": "#%%\n"
    }
   },
   "outputs": [],
   "source": [
    "et_sess = ExtractTable(api_key)"
   ]
  },
  {
   "cell_type": "code",
   "execution_count": 7,
   "metadata": {
    "collapsed": false,
    "pycharm": {
     "name": "#%%\n"
    }
   },
   "outputs": [],
   "source": [
    "# et_sess.__dict__"
   ]
  },
  {
   "cell_type": "markdown",
   "metadata": {
    "collapsed": false
   },
   "source": [
    "## 3.2 **Validate** the Key and check the plan usage"
   ]
  },
  {
   "cell_type": "code",
   "execution_count": 8,
   "metadata": {
    "collapsed": false,
    "pycharm": {
     "name": "#%%\n"
    }
   },
   "outputs": [],
   "source": [
    "usage = et_sess.check_usage()"
   ]
  },
  {
   "cell_type": "markdown",
   "metadata": {
    "collapsed": false
   },
   "source": [
    "*If there is no error encountered in the above cell, it means we have a valid API key. Now, lets get started by checking the usage and trigger the file for processing*"
   ]
  },
  {
   "cell_type": "code",
   "execution_count": 9,
   "metadata": {
    "collapsed": false,
    "pycharm": {
     "name": "#%%\n"
    }
   },
   "outputs": [
    {
     "data": {
      "text/plain": [
       "{'usage': {'credits': 10, 'used': 0, 'queued': 0},\n",
       " 'keyType': 'FREE_TRIAL',\n",
       " 'plan': 'FREE_TRIAL'}"
      ]
     },
     "execution_count": 9,
     "metadata": {},
     "output_type": "execute_result"
    }
   ],
   "source": [
    "et_sess.server_response"
   ]
  },
  {
   "cell_type": "markdown",
   "metadata": {
    "collapsed": false
   },
   "source": [
    "## 4.1 Accepted Input Types\n",
    "\n",
    "**Allowed input formats** are:\n",
    "- Image\n",
    "  - JPG/JPEG\n",
    "  - PNG\n",
    "- PDF\n",
    "  - Text PDF\n",
    "  - Scan PDF\n",
    "  - Image PDF\n",
    "\n",
    "\n",
    "**Input Location Options**\n",
    "- Location can be a file from the local drive\n",
    "- Accessible remote URL - *the file object will be locally downloaded and deleted once sent to the process*"
   ]
  },
  {
   "cell_type": "markdown",
   "metadata": {
    "collapsed": false
   },
   "source": [
    "## 4.3 Process a <ins>PDF</ins> Input"
   ]
  },
  {
   "cell_type": "code",
   "execution_count": 10,
   "metadata": {},
   "outputs": [],
   "source": [
    "import os\n",
    "Location_of_PDF_with_Tables=os.path.join(\"pdf\",\"ISCC_EU_material_list_240229.pdf\")"
   ]
  },
  {
   "cell_type": "code",
   "execution_count": 11,
   "metadata": {
    "collapsed": false,
    "pycharm": {
     "name": "#%%\n"
    }
   },
   "outputs": [
    {
     "name": "stdout",
     "output_type": "stream",
     "text": [
      "[Info]: Aggregating user defined pages.. 3\n"
     ]
    },
    {
     "ename": "DeprecationError",
     "evalue": "PdfFileReader is deprecated and was removed in PyPDF2 3.0.0. Use PdfReader instead.",
     "output_type": "error",
     "traceback": [
      "\u001b[1;31m---------------------------------------------------------------------------\u001b[0m",
      "\u001b[1;31mDeprecationError\u001b[0m                          Traceback (most recent call last)",
      "Cell \u001b[1;32mIn[11], line 1\u001b[0m\n\u001b[1;32m----> 1\u001b[0m table_data \u001b[38;5;241m=\u001b[39m \u001b[43met_sess\u001b[49m\u001b[38;5;241;43m.\u001b[39;49m\u001b[43mprocess_file\u001b[49m\u001b[43m(\u001b[49m\u001b[43mfilepath\u001b[49m\u001b[38;5;241;43m=\u001b[39;49m\u001b[43mLocation_of_PDF_with_Tables\u001b[49m\u001b[43m,\u001b[49m\u001b[43m \u001b[49m\u001b[43mpages\u001b[49m\u001b[38;5;241;43m=\u001b[39;49m\u001b[38;5;124;43m\"\u001b[39;49m\u001b[38;5;124;43m3\u001b[39;49m\u001b[38;5;124;43m\"\u001b[39;49m\u001b[43m,\u001b[49m\u001b[43m \u001b[49m\u001b[43moutput_format\u001b[49m\u001b[38;5;241;43m=\u001b[39;49m\u001b[38;5;124;43m\"\u001b[39;49m\u001b[38;5;124;43mdf\u001b[39;49m\u001b[38;5;124;43m\"\u001b[39;49m\u001b[43m)\u001b[49m\n",
      "File \u001b[1;32mc:\\Python312\\Lib\\site-packages\\ExtractTable\\__init__.py:178\u001b[0m, in \u001b[0;36mExtractTable.process_file\u001b[1;34m(self, filepath, pages, output_format, dup_check, indexing, **kwargs)\u001b[0m\n\u001b[0;32m    175\u001b[0m \u001b[38;5;66;03m# To use the reference when saving the output\u001b[39;00m\n\u001b[0;32m    176\u001b[0m \u001b[38;5;28mself\u001b[39m\u001b[38;5;241m.\u001b[39m\u001b[38;5;21m__setattr__\u001b[39m(\u001b[38;5;124m'\u001b[39m\u001b[38;5;124minput_filename\u001b[39m\u001b[38;5;124m'\u001b[39m, os\u001b[38;5;241m.\u001b[39mpath\u001b[38;5;241m.\u001b[39mbasename(filepath))\n\u001b[1;32m--> 178\u001b[0m \u001b[38;5;28;01mwith\u001b[39;00m \u001b[43mPrepareInput\u001b[49m\u001b[43m(\u001b[49m\u001b[43mfilepath\u001b[49m\u001b[43m,\u001b[49m\u001b[43m \u001b[49m\u001b[43mpages\u001b[49m\u001b[38;5;241;43m=\u001b[39;49m\u001b[43mpages\u001b[49m\u001b[43m)\u001b[49m \u001b[38;5;28;01mas\u001b[39;00m infile:\n\u001b[0;32m    179\u001b[0m     \u001b[38;5;28;01mwith\u001b[39;00m \u001b[38;5;28mopen\u001b[39m(infile\u001b[38;5;241m.\u001b[39mfilepath, \u001b[38;5;124m'\u001b[39m\u001b[38;5;124mrb\u001b[39m\u001b[38;5;124m'\u001b[39m) \u001b[38;5;28;01mas\u001b[39;00m fp:\n\u001b[0;32m    180\u001b[0m         is_big_file \u001b[38;5;241m=\u001b[39m CheckFile(infile\u001b[38;5;241m.\u001b[39mfilepath)\u001b[38;5;241m.\u001b[39mis_big\n",
      "File \u001b[1;32mc:\\Python312\\Lib\\site-packages\\ExtractTable\\FileOperations\\__init__.py:54\u001b[0m, in \u001b[0;36mPrepareInput.__init__\u001b[1;34m(self, filepath, pages)\u001b[0m\n\u001b[0;32m     52\u001b[0m \u001b[38;5;28;01melse\u001b[39;00m:\n\u001b[0;32m     53\u001b[0m     \u001b[38;5;28mprint\u001b[39m(\u001b[38;5;124m\"\u001b[39m\u001b[38;5;124m[Info]: Aggregating user defined pages..\u001b[39m\u001b[38;5;124m\"\u001b[39m, \u001b[38;5;28mself\u001b[39m\u001b[38;5;241m.\u001b[39mpages)\n\u001b[1;32m---> 54\u001b[0m     gather_pages \u001b[38;5;241m=\u001b[39m \u001b[38;5;28;43mself\u001b[39;49m\u001b[38;5;241;43m.\u001b[39;49m\u001b[43m_get_pages\u001b[49m\u001b[43m(\u001b[49m\u001b[38;5;28;43mself\u001b[39;49m\u001b[38;5;241;43m.\u001b[39;49m\u001b[43mfilepath\u001b[49m\u001b[43m,\u001b[49m\u001b[43m \u001b[49m\u001b[43mpages\u001b[49m\u001b[43m)\u001b[49m\n\u001b[0;32m     55\u001b[0m     \u001b[38;5;28mself\u001b[39m\u001b[38;5;241m.\u001b[39mfilepath \u001b[38;5;241m=\u001b[39m \u001b[38;5;28mself\u001b[39m\u001b[38;5;241m.\u001b[39mpdf_separator(gather_pages)\n",
      "File \u001b[1;32mc:\\Python312\\Lib\\site-packages\\ExtractTable\\FileOperations\\__init__.py:96\u001b[0m, in \u001b[0;36mPrepareInput._get_pages\u001b[1;34m(filepath, pages)\u001b[0m\n\u001b[0;32m     94\u001b[0m \u001b[38;5;28;01melse\u001b[39;00m:\n\u001b[0;32m     95\u001b[0m     \u001b[38;5;28;01mwith\u001b[39;00m \u001b[38;5;28mopen\u001b[39m(filepath, \u001b[38;5;124m\"\u001b[39m\u001b[38;5;124mrb\u001b[39m\u001b[38;5;124m\"\u001b[39m) \u001b[38;5;28;01mas\u001b[39;00m file_obj:\n\u001b[1;32m---> 96\u001b[0m         infile \u001b[38;5;241m=\u001b[39m \u001b[43mPyPDF2\u001b[49m\u001b[38;5;241;43m.\u001b[39;49m\u001b[43mPdfFileReader\u001b[49m\u001b[43m(\u001b[49m\u001b[43mfile_obj\u001b[49m\u001b[43m,\u001b[49m\u001b[43m \u001b[49m\u001b[43mstrict\u001b[49m\u001b[38;5;241;43m=\u001b[39;49m\u001b[38;5;28;43;01mFalse\u001b[39;49;00m\u001b[43m)\u001b[49m\n\u001b[0;32m     97\u001b[0m         \u001b[38;5;28;01mif\u001b[39;00m pages \u001b[38;5;241m==\u001b[39m \u001b[38;5;124m\"\u001b[39m\u001b[38;5;124mall\u001b[39m\u001b[38;5;124m\"\u001b[39m:\n\u001b[0;32m     98\u001b[0m             page_numbers\u001b[38;5;241m.\u001b[39mappend({\u001b[38;5;124m\"\u001b[39m\u001b[38;5;124mstart\u001b[39m\u001b[38;5;124m\"\u001b[39m: \u001b[38;5;241m1\u001b[39m, \u001b[38;5;124m\"\u001b[39m\u001b[38;5;124mend\u001b[39m\u001b[38;5;124m\"\u001b[39m: infile\u001b[38;5;241m.\u001b[39mgetNumPages()})\n",
      "File \u001b[1;32mc:\\Python312\\Lib\\site-packages\\PyPDF2\\_reader.py:1974\u001b[0m, in \u001b[0;36mPdfFileReader.__init__\u001b[1;34m(self, *args, **kwargs)\u001b[0m\n\u001b[0;32m   1973\u001b[0m \u001b[38;5;28;01mdef\u001b[39;00m \u001b[38;5;21m__init__\u001b[39m(\u001b[38;5;28mself\u001b[39m, \u001b[38;5;241m*\u001b[39margs: Any, \u001b[38;5;241m*\u001b[39m\u001b[38;5;241m*\u001b[39mkwargs: Any) \u001b[38;5;241m-\u001b[39m\u001b[38;5;241m>\u001b[39m \u001b[38;5;28;01mNone\u001b[39;00m:\n\u001b[1;32m-> 1974\u001b[0m     \u001b[43mdeprecation_with_replacement\u001b[49m\u001b[43m(\u001b[49m\u001b[38;5;124;43m\"\u001b[39;49m\u001b[38;5;124;43mPdfFileReader\u001b[39;49m\u001b[38;5;124;43m\"\u001b[39;49m\u001b[43m,\u001b[49m\u001b[43m \u001b[49m\u001b[38;5;124;43m\"\u001b[39;49m\u001b[38;5;124;43mPdfReader\u001b[39;49m\u001b[38;5;124;43m\"\u001b[39;49m\u001b[43m,\u001b[49m\u001b[43m \u001b[49m\u001b[38;5;124;43m\"\u001b[39;49m\u001b[38;5;124;43m3.0.0\u001b[39;49m\u001b[38;5;124;43m\"\u001b[39;49m\u001b[43m)\u001b[49m\n\u001b[0;32m   1975\u001b[0m     \u001b[38;5;28;01mif\u001b[39;00m \u001b[38;5;124m\"\u001b[39m\u001b[38;5;124mstrict\u001b[39m\u001b[38;5;124m\"\u001b[39m \u001b[38;5;129;01mnot\u001b[39;00m \u001b[38;5;129;01min\u001b[39;00m kwargs \u001b[38;5;129;01mand\u001b[39;00m \u001b[38;5;28mlen\u001b[39m(args) \u001b[38;5;241m<\u001b[39m \u001b[38;5;241m2\u001b[39m:\n\u001b[0;32m   1976\u001b[0m         kwargs[\u001b[38;5;124m\"\u001b[39m\u001b[38;5;124mstrict\u001b[39m\u001b[38;5;124m\"\u001b[39m] \u001b[38;5;241m=\u001b[39m \u001b[38;5;28;01mTrue\u001b[39;00m  \u001b[38;5;66;03m# maintain the default\u001b[39;00m\n",
      "File \u001b[1;32mc:\\Python312\\Lib\\site-packages\\PyPDF2\\_utils.py:369\u001b[0m, in \u001b[0;36mdeprecation_with_replacement\u001b[1;34m(old_name, new_name, removed_in)\u001b[0m\n\u001b[0;32m    363\u001b[0m \u001b[38;5;28;01mdef\u001b[39;00m \u001b[38;5;21mdeprecation_with_replacement\u001b[39m(\n\u001b[0;32m    364\u001b[0m     old_name: \u001b[38;5;28mstr\u001b[39m, new_name: \u001b[38;5;28mstr\u001b[39m, removed_in: \u001b[38;5;28mstr\u001b[39m \u001b[38;5;241m=\u001b[39m \u001b[38;5;124m\"\u001b[39m\u001b[38;5;124m3.0.0\u001b[39m\u001b[38;5;124m\"\u001b[39m\n\u001b[0;32m    365\u001b[0m ) \u001b[38;5;241m-\u001b[39m\u001b[38;5;241m>\u001b[39m \u001b[38;5;28;01mNone\u001b[39;00m:\n\u001b[0;32m    366\u001b[0m \u001b[38;5;250m    \u001b[39m\u001b[38;5;124;03m\"\"\"\u001b[39;00m\n\u001b[0;32m    367\u001b[0m \u001b[38;5;124;03m    Raise an exception that a feature was already removed, but has a replacement.\u001b[39;00m\n\u001b[0;32m    368\u001b[0m \u001b[38;5;124;03m    \"\"\"\u001b[39;00m\n\u001b[1;32m--> 369\u001b[0m     \u001b[43mdeprecation\u001b[49m\u001b[43m(\u001b[49m\u001b[43mDEPR_MSG_HAPPENED\u001b[49m\u001b[38;5;241;43m.\u001b[39;49m\u001b[43mformat\u001b[49m\u001b[43m(\u001b[49m\u001b[43mold_name\u001b[49m\u001b[43m,\u001b[49m\u001b[43m \u001b[49m\u001b[43mremoved_in\u001b[49m\u001b[43m,\u001b[49m\u001b[43m \u001b[49m\u001b[43mnew_name\u001b[49m\u001b[43m)\u001b[49m\u001b[43m)\u001b[49m\n",
      "File \u001b[1;32mc:\\Python312\\Lib\\site-packages\\PyPDF2\\_utils.py:351\u001b[0m, in \u001b[0;36mdeprecation\u001b[1;34m(msg)\u001b[0m\n\u001b[0;32m    350\u001b[0m \u001b[38;5;28;01mdef\u001b[39;00m \u001b[38;5;21mdeprecation\u001b[39m(msg: \u001b[38;5;28mstr\u001b[39m) \u001b[38;5;241m-\u001b[39m\u001b[38;5;241m>\u001b[39m \u001b[38;5;28;01mNone\u001b[39;00m:\n\u001b[1;32m--> 351\u001b[0m     \u001b[38;5;28;01mraise\u001b[39;00m DeprecationError(msg)\n",
      "\u001b[1;31mDeprecationError\u001b[0m: PdfFileReader is deprecated and was removed in PyPDF2 3.0.0. Use PdfReader instead."
     ]
    }
   ],
   "source": [
    "table_data = et_sess.process_file(filepath=Location_of_PDF_with_Tables, pages=\"3\", output_format=\"df\")"
   ]
  },
  {
   "cell_type": "markdown",
   "metadata": {
    "collapsed": false
   },
   "source": [
    "Below are the sample values ```pages``` accepts **string** type\n",
    "\n",
    "\n",
    "\n",
    "| pages  \t| Explanation                                     \t|\n",
    "|----------\t|-------------------------------------------------\t|\n",
    "| \"1\"      \t| [Default] considers only 1st page of the PDF    \t|\n",
    "| \"1,3,5\"  \t| considers only 1st, 3rd and 5th page of the PDF \t|\n",
    "| \"1, 3-5\" \t| considers 1st, 3rd, 4th and 5th page of the PDF \t|\n",
    "| \"all\"    \t| considers complete PDF                          \t|"
   ]
  },
  {
   "cell_type": "markdown",
   "metadata": {
    "collapsed": false
   },
   "source": [
    "## 4.4 Table Output options\n",
    "\n",
    "> By default, the `process_file()` returns **only** the table data. Output depends on the `output_format` , explained below\n",
    "\n",
    "Explore the available options with `ExtractTable._OUTPUT_FORMATS`\n",
    "\n",
    "| output_format \t| Explanation                                \t|\n",
    "|---------------\t|--------------------------------------------\t|\n",
    "| \"df\"          \t| [Default] Array of Pandas dataframes        \t|\n",
    "| \"dataframe\"   \t| same as \"df\"; Array of Pandas dataframes    \t|\n",
    "| \"json\"        \t| JSON data with index orientation           \t|\n",
    "| \"dict\"        \t| Similar to JSON data but python dictionary \t|\n",
    "| \"csv\"         \t| Array of locally saved CSV file locations   \t|\n",
    "| \"xlsx\"         \t| To save multiple tables as sheets into a single excel\t|\n",
    "| \"excel\"         | same as \"xlsx\"; output is an array of excel location\t|\n",
    "\n",
    "\n",
    "Default output is an array of pandas dataframes, with which you can change to any other format like excel, html etc. Follow https://pandas.pydata.org/pandas-docs/stable/reference/api/pandas.DataFrame.html\n"
   ]
  },
  {
   "cell_type": "markdown",
   "metadata": {
    "collapsed": false
   },
   "source": [
    "## 4.5 Explore session objects\n",
    "\n",
    "> **Explore** all objects of the latest file processing with `et_sess.__dict__.\n",
    "keys()` - Depends on the plan type of your API Key"
   ]
  },
  {
   "cell_type": "code",
   "execution_count": null,
   "metadata": {
    "collapsed": false,
    "pycharm": {
     "name": "#%%\n"
    }
   },
   "outputs": [],
   "source": [
    "et_sess.__dict__.keys()"
   ]
  },
  {
   "cell_type": "markdown",
   "metadata": {
    "collapsed": false
   },
   "source": [
    "Based on the API Key PLAN type, the et_sess contains below objects\n",
    "\n",
    "| Object          \t| Explanation                                                                            \t|\n",
    "|-----------------\t|----------------------------------------------------------------------------------------\t|\n",
    "| api_key         \t| Your API Key                                                                           \t|\n",
    "| _session        \t| Session data of the **latest** performed request/action                                          \t|\n",
    "| input_filename  \t| Name of the processed input file |\n",
    "| ServerResponse  \t| Complete ServerResponse, along with response code and headers                          \t|\n",
    "| server_response \t| complete server response content; equivalent to `ServerResponse.json()`                \t|\n",
    "| JobStatus       \t| Job Status of the triggered process                                                    \t|\n",
    "| Pages           \t| Number of pages in the input; also number of credits consumed on the triggered process \t|\n",
    "| Tables          \t| Tabular Data in JSON format with index orientation; ordered table wise                 \t|\n",
    "| Lines           \t| Text Data in JSON format, ordered page wise                                            \t|"
   ]
  },
  {
   "cell_type": "markdown",
   "metadata": {
    "collapsed": false
   },
   "source": [
    "## 4.6 Save Table & Text to LOCAL\n",
    "\n",
    "```python\n",
    "et_sess.save_output(output_folder, output_format=\"csv\")\n",
    "```\n",
    "`output_format` param is relavant only for the table data, with options \"csv\" or \"xlsx\"\n",
    "\n",
    "\n",
    "> Note: As the `et_sess` contains the latest action performed, make sure this call is right after the `process_file()`"
   ]
  },
  {
   "cell_type": "markdown",
   "metadata": {
    "collapsed": false
   },
   "source": [
    "# 5. Explore the Output"
   ]
  },
  {
   "cell_type": "markdown",
   "metadata": {
    "collapsed": false
   },
   "source": [
    "## 5.1 Output Structure\n",
    "\n",
    "> **Understand the output**: The response of a triggered job is a JSON object in the below format. \n",
    "\n",
    "Note that the response depends on the plan type of the API Key.\n",
    "\n",
    "\n",
    "```javascript\n",
    "{\n",
    "    \"JobStatus\": <string>,                              # Status of the triggered Process  @ JOB-LEVEL\n",
    "    \"Pages\": <integer>,                                 # Number of pages processed in this request @ PAGE-LEVEL\n",
    "    \"Tables\": [<list of key-value objects of table>     # List of all tables found @ TABLE-LEVEL\n",
    "        {\n",
    "            \"Page\": <integer>,                              ## Page number in which this table is found\n",
    "            \"CharacterConfidence\": <float>,                 ## Accuracy of Characters recognized from the input-page\n",
    "            \"LayoutConfidence\": <float>,                    ## Accuracy of table layout's design decision\n",
    "            \"TableJson\": <dict>,                            ## Table Cell Text in key-value format with index orientation - {row#: {col#: <str>}}\n",
    "            \"TableCoordinates\": <dict>,                     ## Top-left & Bottom-right Cell Coordinates - {row#: {col#: <list(x1,y1,x2,y2)>}}\n",
    "            \"TableConfidence\": <dict>                       ## Cell level accuracy of detected characters - {row#: {col#: <float>}}\n",
    "        },\n",
    "    {...}                                               ## ... more \"Tables\" objects\n",
    "    ],\n",
    "    \"Lines\": [<list of key-value objects>               # Pagewise Line details @ PAGE-LEVEL\n",
    "        {\n",
    "            \"Page\": <integer>,                          # Page number in which the lines are found\n",
    "            \"CharacterConfidence\": <float>,             # Average Accuracy of all Characters recognized from the input-page\n",
    "            \"LinesArray\": [\n",
    "                <list of key-value objects of line>     # Ordered list of lines in this page @ LINE-LEVEL\n",
    "                {\n",
    "                    \"Line\": <str>,                          ## Detected text of the complete line\n",
    "                    \"WordsArray\": [\n",
    "                        <list of key-value objects>         ## Word level datails in this line @ WORD-LEVEL\n",
    "                        {\n",
    "                            \"Conf\": <float>,                    ### Accuracy of recognized characters of the word\n",
    "                            \"Word\": <str>,                      ### Detected text of the word\n",
    "                            \"Loc\": [x1, y1, x2, y2]             ### Top-left & Bottom-right coordinates, w.r.t the input-page width-height dimensions\n",
    "                        },\n",
    "                    {...}                                   ### More \"WordsArray\" objects\n",
    "                    ]\n",
    "                },\n",
    "            {...}                                       ## More \"LinesArray\" objects\n",
    "            ]\n",
    "        },\n",
    "    {...}                                               # More Pagewise \"Lines\" details\n",
    "    ]\n",
    "}\n",
    "```"
   ]
  },
  {
   "cell_type": "markdown",
   "metadata": {
    "collapsed": false
   },
   "source": [
    "## 5.2 Output Details\n",
    "\n",
    "Output objects are based on the API Key Plan type. Available plan types are \n",
    "\n",
    "**Purchased Plans**\n",
    "*   \"LITE\"   - **only table data** in the output\n",
    "*   \"FULL\"   - **table and text data** in the output\n",
    "*   \"EXTRA\"  - **table, text data along with cell & word coordintates and character detection accuracy**\n",
    "\n",
    "**Promotional Plans**: Any plan other than Purchased plans are promotional\n",
    "*   \"free_trial\", \"camelotpro\" - these are promotional API Keys, gives only table data equivalent to \"LITE\" plan type\n",
    "\n",
    "\n",
    "<br>\n",
    "Output objects detail below\n",
    "\n",
    "\n",
    "\n",
    "| Key Name \t| Parent \t| Type \t| Description \t| Availability \t|\n",
    "|-\t|-\t|-\t|-\t|-\t|\n",
    "| JobStatus \t| Job \t| String \t| Status of the triggered process \t| ALL Plans \t|\n",
    "| Pages \t| Job \t| Integer \t| Number of pages processed in the request \t| ALL Plans \t|\n",
    "| Tables \t| Job \t| Array \t| List of all tables found \t| ALL Plans \t|\n",
    "| Tables[0].Page \t| Table \t| Integer \t| Page number in which the table is found \t| ALL Plans \t|\n",
    "| Tables[0].CharacterConfidence \t| Table \t| Decimal \t| Accuracy of Characters recognized from the image \t| ALL Plans \t|\n",
    "| Tables[0].LayoutConfidence \t| Table \t| Decimal \t| Accuracy of table layout's design decision \t| ALL Plans \t|\n",
    "| Tables[0].TableJson \t| Table \t| Json/dict \t| Table Cell Text in key-value format with index orientation - {row#: {col#: }} \t| ALL Plans \t|\n",
    "| Tables[0].TableCoordinates \t| Table \t| Json/dict \t| Top-left & Bottom-right Cell Coordinates - {row#: {col#: }} \t| EXTRA Plan \t|\n",
    "| Tables[0].TableConfidence \t| Table \t| Json/dict \t| Cell level accuracy of detected characters - {row#: {col#: }} \t| EXTRA Plan \t|\n",
    "| Lines \t| Job \t| Array \t| List of page-wise lines text \t| FULL, EXTRA\t|\n",
    "| Lines[0].Page \t| Page \t| Integer \t| Page number in which the lines are found \t| Full Plan \t|\n",
    "| Lines[0].CharacterConfidence \t| Page \t| Decimal \t| Average Accuracy of all Characters recognized from the input-page \t| Full Plan \t|\n",
    "| Lines[0].LineArray \t| Page \t| Array \t| Ordered list of lines of the page \t|  \t|\n",
    "| Lines[0].LineArray[0].Line \t| Line \t| String \t| Detected text of the complete line \t| Full Plan \t|\n",
    "| Lines[0].LineArray[0].WordsArray \t| Line \t| Array \t| Word level datails in this line \t| EXTRA Plan \t|\n",
    "| Lines[0].LineArray[0].WordsArray[0].Conf \t| Word \t| Decimal \t| Accuracy of recognized characters of the word \t| EXTRA Plan \t|\n",
    "| Lines[0].LineArray[0].WordsArray[0].Word \t| Word \t| String \t| Detected text of the word \t| EXTRA Plan \t|\n",
    "| Lines[0].LineArray[0].WordsArray[0].Loc \t| Word \t| Array \t| Top-left & Bottom-right coordinates, w.r.t the input-page width-height dimensions \t| EXTRA Plan \t|"
   ]
  },
  {
   "cell_type": "markdown",
   "metadata": {
    "collapsed": false
   },
   "source": [
    "# 6. Make Corrections\n",
    "\n",
    "> **Objective**: To ease corrections on the most common issues with the `MakeCorrections` module.\n",
    "\n",
    "**Details:** The service relies on OCR (Optical Character Recognition) for character detection and deep learning models to detect tabular structures on the input. There may be a chance for merged rows or columns or incorrect type detections on low-quality inputs with a complex table layout or tightly packed columns. With those in mind, we want to offer the built-in service at the client-side to give control and ease in making corrections on the output. \n",
    "\n",
    "\n",
    "The module, `MakeCorrections`, currently supports below functionalities\n",
    "\n",
    "| Functionality        \t| Explanation                                    \t|\n",
    "|----------------------\t|------------------------------------------------\t|\n",
    "| Split Merged Rows    \t| Works well on cell values with no spaces       \t|\n",
    "| Split Merged Columns \t| Works well on cell values with no spaces       \t|\n",
    "| Fix Decimal Format   \t| To fix thousand and decimal separators         \t|\n",
    "| Fix Date Format      \t| To handle and modify incorrect date separators \t|\n",
    "| Fix Characters       \t| To fix incorrect character detections          \t|\n"
   ]
  },
  {
   "cell_type": "code",
   "execution_count": null,
   "metadata": {
    "collapsed": false,
    "pycharm": {
     "name": "#%%\n"
    }
   },
   "outputs": [],
   "source": [
    "# First things first lets import the module and prepare for corrections\n",
    "\n",
    "from ExtractTable.common import MakeCorrections\n",
    "\n",
    "corrections = MakeCorrections(et_resp=et_sess.server_response)"
   ]
  },
  {
   "cell_type": "markdown",
   "metadata": {
    "collapsed": false
   },
   "source": [
    "## 6.1 Split Merged Rows\n",
    "        \"\"\"\n",
    "        To split the merged rows into possible multiple rows\n",
    "        :return: reformatted list of dataframes\n",
    "        \"\"\"\n"
   ]
  },
  {
   "cell_type": "code",
   "execution_count": null,
   "metadata": {
    "collapsed": false,
    "pycharm": {
     "name": "#%%\n"
    }
   },
   "outputs": [],
   "source": [
    "corrected_table_dataframes = corrections.split_merged_rows()"
   ]
  },
  {
   "cell_type": "markdown",
   "metadata": {
    "collapsed": false
   },
   "source": [
    "## 6.2 Split Merged Columns\n",
    "\n",
    "        \"\"\"\n",
    "        To split the merged columns into possible multiple columns\n",
    "        :param columns_idx: user preferred columns indices.\n",
    "                Default loops through all columns to find numeric or decimal columns\n",
    "        :param force_split: To force split through the columns\n",
    "        :return: reformatted list of dataframes\n",
    "        \"\"\"\n"
   ]
  },
  {
   "cell_type": "code",
   "execution_count": null,
   "metadata": {
    "collapsed": false,
    "pycharm": {
     "name": "#%%\n"
    }
   },
   "outputs": [],
   "source": [
    "corrected_table_dataframes = corrections.split_merged_columns()"
   ]
  },
  {
   "cell_type": "markdown",
   "metadata": {
    "collapsed": false
   },
   "source": [
    "## 6.3 Fix Decimal Format\n",
    "\n",
    "\n",
    "        \"\"\"\n",
    "        To fix decimal and thousands separator values. Often commas as detected as period\n",
    "        :param columns_idx: user preferred columns indices.\n",
    "                Default loops through all columns to find numeric or decimal columns\n",
    "        :param decimal_separator: preferred decimal separator\n",
    "        :param thousands_separator: preferred thousands separator\n",
    "        :param decimal_position: preferred decimal position\n",
    "        :return: corrected list of dataframes\n",
    "        \"\"\"\n"
   ]
  },
  {
   "cell_type": "code",
   "execution_count": null,
   "metadata": {
    "collapsed": false,
    "pycharm": {
     "name": "#%%\n"
    }
   },
   "outputs": [],
   "source": [
    "corrected_table_dataframes = corrections.fix_decimal_format(decimal_separator=\".\", thousands_separator=\",\")"
   ]
  },
  {
   "cell_type": "markdown",
   "metadata": {
    "collapsed": false
   },
   "source": [
    "## 6.4 Fix Date Format\n",
    "\n",
    "        \"\"\"\n",
    "        To fix date formats of the column\n",
    "        Eg: 12|1212020 as 12/12/2020\n",
    "        :param columns_idx: user preferred columns indices.\n",
    "                Default loops through all columns to find Date Columns\n",
    "        :param delimiter: \"/\" or \"-\" whatelse you prefer\n",
    "        :return: correted list of dataframes\n",
    "        \"\"\"\n"
   ]
  },
  {
   "cell_type": "code",
   "execution_count": null,
   "metadata": {
    "collapsed": false,
    "pycharm": {
     "name": "#%%\n"
    }
   },
   "outputs": [],
   "source": [
    "corrected_table_dataframes = corrections.fix_date_format(delimiter=\"/\")"
   ]
  },
  {
   "cell_type": "markdown",
   "metadata": {
    "collapsed": false
   },
   "source": [
    "## 6.5 Fix Characters\n",
    "\n",
    "        \"\"\"\n",
    "        To replace incorrect character detections\n",
    "        Eg: $123,45.0I as $123,45.01\n",
    "        :param columns_idx: user preferred columns indices.\n",
    "                Default loops through all columns to find Date Columns\n",
    "        :param replace_ref: the replacement dictionary for reference\n",
    "                Eg: {\"I\": \"1\"}\n",
    "        :return: correted list of dataframes\n",
    "        \"\"\"\n"
   ]
  },
  {
   "cell_type": "code",
   "execution_count": null,
   "metadata": {
    "collapsed": false,
    "pycharm": {
     "name": "#%%\n"
    }
   },
   "outputs": [],
   "source": [
    "corrected_table_dataframes = corrections.fix_characters(self, columns_idx=[0, 1], replace_ref={\"I\": \"1\", \"S\": \"$\"})"
   ]
  },
  {
   "cell_type": "markdown",
   "metadata": {
    "collapsed": false
   },
   "source": [
    "# 7. Helpful Code Snippets\n",
    "\n",
    "Extra code snippets that are useful to perform some actions on the output. Based on the frequently asked questions."
   ]
  },
  {
   "cell_type": "markdown",
   "metadata": {
    "collapsed": false
   },
   "source": [
    "## 7.1 Get text data"
   ]
  },
  {
   "cell_type": "code",
   "execution_count": null,
   "metadata": {
    "collapsed": false,
    "pycharm": {
     "name": "#%%\n"
    }
   },
   "outputs": [],
   "source": [
    "# If your API Key supports \"Lines\"\n",
    "\n",
    "all_page_lines = []\n",
    "for each_page in et_sess.Lines:\n",
    "  for each_line in each_page['LinesArray']:\n",
    "    all_page_lines.append(each_line['Line'])\n",
    "  \n",
    "print(\"\\n\".join(all_page_lines))"
   ]
  },
  {
   "cell_type": "markdown",
   "metadata": {
    "collapsed": false
   },
   "source": [
    "## 7.2 All tables output to a single excel"
   ]
  },
  {
   "cell_type": "code",
   "execution_count": null,
   "metadata": {
    "collapsed": false,
    "pycharm": {
     "name": "#%%\n"
    }
   },
   "outputs": [],
   "source": [
    "table_data = et_sess.process_file(filepath=Location_of_PDF_with_Tables, output_format=\"df\", pages=\"all\")\n",
    " \n",
    "import pandas as pd\n",
    "accumulate_all_dfs = pd.DataFrame()\n",
    "\n",
    "for each_df in table_data:\n",
    "    accumulate_all_dfs = accumulate_all_dfs.append(each_df, ignore_index=True)\n",
    "    # print(each_df.shape, accumulate_all_dfs.shape)\n",
    "\n",
    "print(\"Shape of all tables accumulated together is\", accumulate_all_dfs.shape)\n",
    "\n",
    "\n",
    "output_excel_location = <location_for_the_excel_output.xlsx>\n",
    "# Save the accumulated output to a single excel file\n",
    "accumulate_all_dfs.to_excel(output_excel_location, index=False, header=False)"
   ]
  },
  {
   "cell_type": "markdown",
   "metadata": {
    "collapsed": false
   },
   "source": [
    "# 8. View transactions\n",
    "\n",
    "To view all the transactions that were triggered in the last 24 hours"
   ]
  },
  {
   "cell_type": "code",
   "execution_count": null,
   "metadata": {
    "collapsed": false,
    "pycharm": {
     "name": "#%%\n"
    }
   },
   "outputs": [],
   "source": [
    "et_sess.view_transactions()"
   ]
  },
  {
   "cell_type": "markdown",
   "metadata": {
    "collapsed": false
   },
   "source": [
    "Return a list of transactions, with each record having below properties\n",
    "\n",
    "|Property | Description |\n",
    "|---|---|\n",
    "|JobStatus | Status of the job|\n",
    "|Pages | number of pages of the input; can also be considered as number of credits consumed|\n",
    "|createdon | timestamp when the request was processed|\n",
    "|requested_filename | Filename received in the request|\n",
    "|txn_id | Unique identifier of the transaction, also referred as JobId to retrieve output via `get_result(JobId)`|"
   ]
  },
  {
   "cell_type": "markdown",
   "metadata": {
    "collapsed": false
   },
   "source": [
    "# 9. Support & Contact\n",
    "\n",
    "Please do not hesitate to approach our developer team at pydevs@extracttable.com for any assitance needed or to report a bug"
   ]
  }
 ],
 "metadata": {
  "colab": {
   "collapsed_sections": [],
   "name": "ExtractTable Usage -2.2.0",
   "provenance": [],
   "toc_visible": true
  },
  "kernelspec": {
   "display_name": "Python 3",
   "name": "python3"
  },
  "language_info": {
   "codemirror_mode": {
    "name": "ipython",
    "version": 3
   },
   "file_extension": ".py",
   "mimetype": "text/x-python",
   "name": "python",
   "nbconvert_exporter": "python",
   "pygments_lexer": "ipython3",
   "version": "3.12.2"
  }
 },
 "nbformat": 4,
 "nbformat_minor": 0
}
